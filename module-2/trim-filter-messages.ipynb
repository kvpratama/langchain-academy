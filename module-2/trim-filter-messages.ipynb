{
 "cells": [
  {
   "cell_type": "markdown",
   "id": "fb0ebaf1",
   "metadata": {},
   "source": [
    "[![Open in Colab](https://colab.research.google.com/assets/colab-badge.svg)](https://colab.research.google.com/github/langchain-ai/langchain-academy/blob/main/module-2/trim-filter-messages.ipynb) [![Open in LangChain Academy](https://cdn.prod.website-files.com/65b8cd72835ceeacd4449a53/66e9eba12c7b7688aa3dbb5e_LCA-badge-green.svg)](https://academy.langchain.com/courses/take/intro-to-langgraph/lessons/58239435-lesson-4-trim-and-filter-messages)"
   ]
  },
  {
   "cell_type": "markdown",
   "id": "c52ea2f9-03ff-4647-b782-46867ebed04e",
   "metadata": {},
   "source": [
    "# Filtering and trimming messages\n",
    "\n",
    "## Review\n",
    "\n",
    "Now, we have a deeper understanding of a few things: \n",
    "\n",
    "* How to customize the graph state schema\n",
    "* How to define custom state reducers\n",
    "* How to use multiple graph state schemas\n",
    "\n",
    "## Goals\n",
    "\n",
    "Now, we can start using these concepts with models in LangGraph!\n",
    " \n",
    "In the next few sessions, we'll build towards a chatbot that has long-term memory.\n",
    "\n",
    "Because our chatbot will use messages, let's first talk a bit more about advanced ways to work with messages in graph state."
   ]
  },
  {
   "cell_type": "code",
   "execution_count": null,
   "id": "d5197aba-5d46-421b-ae3b-4e3034edcfda",
   "metadata": {},
   "outputs": [],
   "source": [
    "%%capture --no-stderr\n",
    "%pip install --quiet -U langchain_core langgraph langchain_openai"
   ]
  },
  {
   "cell_type": "code",
   "execution_count": 1,
   "id": "768dc606-d5f2-468d-96ea-910b264e0f8a",
   "metadata": {},
   "outputs": [],
   "source": [
    "import os, getpass\n",
    "\n",
    "def _set_env(var: str):\n",
    "    if not os.environ.get(var):\n",
    "        os.environ[var] = getpass.getpass(f\"{var}: \")\n",
    "\n",
    "_set_env(\"OPENAI_API_KEY\")\n",
    "if \"GOOGLE_API_KEY\" not in os.environ:\n",
    "        os.environ[\"GOOGLE_API_KEY\"] = os.environ[\"GEMINI_API_KEY\"]"
   ]
  },
  {
   "cell_type": "markdown",
   "id": "8b64d8d3-e4ac-4961-bdc0-688825eb5864",
   "metadata": {},
   "source": [
    "We'll use [LangSmith](https://docs.smith.langchain.com/) for [tracing](https://docs.smith.langchain.com/concepts/tracing).\n",
    "\n",
    "We'll log to a project, `langchain-academy`. "
   ]
  },
  {
   "cell_type": "code",
   "execution_count": 2,
   "id": "dd020c79",
   "metadata": {},
   "outputs": [],
   "source": [
    "_set_env(\"LANGSMITH_API_KEY\")\n",
    "os.environ[\"LANGSMITH_TRACING\"] = \"true\"\n",
    "os.environ[\"LANGSMITH_PROJECT\"] = \"langchain-academy\""
   ]
  },
  {
   "cell_type": "markdown",
   "id": "72f3fc90-58b6-4f7f-897e-dddf6ae532c7",
   "metadata": {},
   "source": [
    "## Messages as state\n",
    "\n",
    "First, let's define some messages."
   ]
  },
  {
   "cell_type": "code",
   "execution_count": 3,
   "id": "cf11a463-e27a-4a05-b41d-64882e38edca",
   "metadata": {},
   "outputs": [
    {
     "name": "stdout",
     "output_type": "stream",
     "text": [
      "==================================\u001b[1m Ai Message \u001b[0m==================================\n",
      "Name: Bot\n",
      "\n",
      "So you said you were researching ocean mammals?\n",
      "================================\u001b[1m Human Message \u001b[0m=================================\n",
      "Name: Lance\n",
      "\n",
      "Yes, I know about whales. But what others should I learn about?\n"
     ]
    }
   ],
   "source": [
    "from pprint import pprint\n",
    "from langchain_core.messages import AIMessage, HumanMessage\n",
    "messages = [AIMessage(f\"So you said you were researching ocean mammals?\", name=\"Bot\")]\n",
    "messages.append(HumanMessage(f\"Yes, I know about whales. But what others should I learn about?\", name=\"Lance\"))\n",
    "\n",
    "for m in messages:\n",
    "    m.pretty_print()"
   ]
  },
  {
   "cell_type": "markdown",
   "id": "b814adcb-6bf9-4b75-be11-e59f933fbd0c",
   "metadata": {},
   "source": [
    "Recall we can pass them to a chat model."
   ]
  },
  {
   "cell_type": "code",
   "execution_count": 4,
   "id": "4712e288-e622-48a2-ad3f-a52f65f3ab08",
   "metadata": {},
   "outputs": [
    {
     "data": {
      "text/plain": [
       "AIMessage(content='Okay, great! Whales are a good start. To broaden your knowledge of ocean mammals, here are some other major groups and specific examples you could research:\\n\\n**1. Dolphins and Porpoises (Cetaceans):**\\n\\n*   **Dolphins:** Often more social and playful than porpoises, generally have longer, more pointed noses (rostrums).\\n    *   **Bottlenose Dolphin:** The most well-known and studied dolphin species.\\n    *   **Spinner Dolphin:** Known for their acrobatic spinning leaps.\\n    *   **Orca (Killer Whale):** Technically the largest dolphin species!\\n*   **Porpoises:** Generally smaller and stouter than dolphins, with blunt noses.\\n    *   **Harbor Porpoise:** A common species in coastal waters.\\n    *   **Dall\\'s Porpoise:** The fastest of all small cetaceans.\\n\\n**2. Seals, Sea Lions, and Walruses (Pinnipeds):**\\n\\n*   **Seals (True Seals):** Lack external ear flaps and use their front flippers primarily for steering in the water. They move on land by wriggling.\\n    *   **Harbor Seal:** A widely distributed and relatively common seal.\\n    *   **Elephant Seal:** Massive seals known for the males\\' large noses.\\n    *   **Weddell Seal:** Can dive to incredible depths and stay underwater for long periods.\\n*   **Sea Lions (Eared Seals):** Have external ear flaps and can rotate their hind flippers forward to walk on land.\\n    *   **California Sea Lion:** The \"circus seal,\" often seen performing tricks.\\n    *   **Steller Sea Lion:** One of the largest sea lion species.\\n*   **Walruses:** Distinctive for their tusks and whiskers.\\n    *   **Walrus:** Found in Arctic regions.\\n\\n**3. Sea Otters (Mustelids):**\\n\\n*   **Sea Otter:** The smallest marine mammal in North America, known for using tools.\\n\\n**4. Manatees and Dugongs (Sirenians):**\\n\\n*   **Manatees:** Gentle giants found in warm coastal waters.\\n    *   **West Indian Manatee:** Includes the Florida Manatee and the Antillean Manatee.\\n    *   **Amazonian Manatee:** Found in the Amazon River.\\n    *   **West African Manatee:** Found along the western coast of Africa.\\n*   **Dugongs:** Similar to manatees but with a more dolphin-like tail.\\n    *   **Dugong:** Found in the Indo-Pacific region.\\n\\n**Things to Consider When Researching:**\\n\\n*   **Habitat:** Where do they live? (e.g., Arctic, tropical, coastal)\\n*   **Diet:** What do they eat? (e.g., fish, krill, shellfish)\\n*   **Social Behavior:** Are they solitary or social? What are their social structures like?\\n*   **Conservation Status:** Are they endangered, threatened, or of least concern? What threats do they face?\\n*   **Adaptations:** What special features do they have that help them survive in their environment? (e.g., blubber, echolocation)\\n\\n**Where to Start Your Research:**\\n\\n*   **Online Resources:** NOAA Fisheries, WWF, National Geographic, Wikipedia (use with caution, cross-reference information).\\n*   **Books:** Look for books on marine mammals at your local library or bookstore.\\n*   **Documentaries:** Many excellent documentaries about ocean life feature marine mammals.\\n\\nI hope this gives you a good starting point! Which of these groups or specific animals are you most interested in learning about first? I can help you find more specific information once you\\'ve narrowed it down.', additional_kwargs={}, response_metadata={'prompt_feedback': {'block_reason': 0, 'safety_ratings': []}, 'finish_reason': 'STOP', 'safety_ratings': []}, id='run-a3904a89-25cf-4aa2-baae-80dc6a7353f7-0', usage_metadata={'input_tokens': 24, 'output_tokens': 794, 'total_tokens': 818, 'input_token_details': {'cache_read': 0}})"
      ]
     },
     "execution_count": 4,
     "metadata": {},
     "output_type": "execute_result"
    }
   ],
   "source": [
    "# from langchain_openai import ChatOpenAI\n",
    "# llm = ChatOpenAI(model=\"gpt-4o\")\n",
    "from langchain_google_genai import ChatGoogleGenerativeAI\n",
    "llm = ChatGoogleGenerativeAI(model=\"gemini-2.0-flash\")\n",
    "llm.invoke(messages)"
   ]
  },
  {
   "cell_type": "markdown",
   "id": "fbd1dab8-0af8-4621-8264-ce65065f76ec",
   "metadata": {},
   "source": [
    "We can run our chat model in a simple graph with `MessagesState`."
   ]
  },
  {
   "cell_type": "code",
   "execution_count": 5,
   "id": "bbd8c39c-633b-4176-9cc6-8318e42bb5dd",
   "metadata": {},
   "outputs": [
    {
     "data": {
      "image/png": "[encoded data removed]",
      "text/plain": [
       "<IPython.core.display.Image object>"
      ]
     },
     "metadata": {},
     "output_type": "display_data"
    }
   ],
   "source": [
    "from IPython.display import Image, display\n",
    "from langgraph.graph import MessagesState\n",
    "from langgraph.graph import StateGraph, START, END\n",
    "\n",
    "# Node\n",
    "def chat_model_node(state: MessagesState):\n",
    "    return {\"messages\": llm.invoke(state[\"messages\"])}\n",
    "\n",
    "# Build graph\n",
    "builder = StateGraph(MessagesState)\n",
    "builder.add_node(\"chat_model\", chat_model_node)\n",
    "builder.add_edge(START, \"chat_model\")\n",
    "builder.add_edge(\"chat_model\", END)\n",
    "graph = builder.compile()\n",
    "\n",
    "# View\n",
    "display(Image(graph.get_graph().draw_mermaid_png()))"
   ]
  },
  {
   "cell_type": "code",
   "execution_count": 6,
   "id": "3a5a3e4a-ccfd-4d14-81f1-f0de6e11a1e4",
   "metadata": {},
   "outputs": [
    {
     "name": "stdout",
     "output_type": "stream",
     "text": [
      "==================================\u001b[1m Ai Message \u001b[0m==================================\n",
      "Name: Bot\n",
      "\n",
      "So you said you were researching ocean mammals?\n",
      "================================\u001b[1m Human Message \u001b[0m=================================\n",
      "Name: Lance\n",
      "\n",
      "Yes, I know about whales. But what others should I learn about?\n",
      "==================================\u001b[1m Ai Message \u001b[0m==================================\n",
      "\n",
      "That's great! Whales are fascinating. Since you already know about whales, let's explore some other captivating ocean mammals. Here's a breakdown of some key groups and specific examples you might find interesting:\n",
      "\n",
      "**1. Dolphins and Porpoises (Cetaceans - just like Whales!):**\n",
      "\n",
      "*   **Why Learn About Them?** Closely related to whales, dolphins and porpoises are highly intelligent, social creatures with complex communication skills. They come in a wide variety of sizes and shapes.\n",
      "*   **Examples:**\n",
      "    *   **Bottlenose Dolphin:** The classic dolphin, known for its intelligence and use in research and entertainment.\n",
      "    *   **Orca (Killer Whale):** Technically a dolphin! Apex predators with sophisticated hunting strategies and distinct cultural differences between pods.\n",
      "    *   **Harbor Porpoise:** Smaller and more reclusive than dolphins, often found in coastal waters.\n",
      "    *   **Dall's Porpoise:** The fastest of all small cetaceans, known for its \"rooster tail\" spray.\n",
      "\n",
      "**2. Seals, Sea Lions, and Walruses (Pinnipeds):**\n",
      "\n",
      "*   **Why Learn About Them?** Pinnipeds are semi-aquatic mammals adapted for life both on land and in the water. They are excellent swimmers and divers, often found in cold or temperate climates.\n",
      "*   **Key Differences:** Seals lack external ear flaps, have shorter flippers, and move on land by wriggling. Sea lions have external ear flaps, longer flippers, and can \"walk\" on land. Walruses are distinguished by their prominent tusks.\n",
      "*   **Examples:**\n",
      "    *   **Harbor Seal:** Common and widespread, often seen hauled out on rocks.\n",
      "    *   **California Sea Lion:** Noisy and playful, often seen performing in marine parks.\n",
      "    *   **Elephant Seal:** The largest of the seals, known for the male's large proboscis (nose).\n",
      "    *   **Walrus:** Found in Arctic regions, known for their tusks used for digging in the seabed.\n",
      "\n",
      "**3. Sea Otters:**\n",
      "\n",
      "*   **Why Learn About Them?** Sea otters are the smallest marine mammal in North America and play a crucial role in maintaining kelp forest ecosystems.\n",
      "*   **Key Features:** They use tools (rocks) to open shellfish, have incredibly dense fur, and are known for their playful behavior.\n",
      "*   **Where to Learn More:** Focus on their role as a keystone species and the impact of their population decline and recovery.\n",
      "\n",
      "**4. Manatees and Dugongs (Sirenians):**\n",
      "\n",
      "*   **Why Learn About Them?** These gentle giants are herbivores (plant-eaters) often called \"sea cows.\" They are vulnerable to habitat loss and boat strikes.\n",
      "*   **Key Features:** Slow-moving, docile, and found in warm coastal waters and rivers.\n",
      "*   **Examples:**\n",
      "    *   **West Indian Manatee:** Found in the southeastern United States, the Caribbean, and South America.\n",
      "    *   **Dugong:** Found in the Indo-Pacific region.\n",
      "\n",
      "**5. Polar Bears:**\n",
      "\n",
      "*   **Why Learn About Them?** Polar bears are highly specialized for life in the Arctic, relying on sea ice for hunting seals. They are facing significant threats due to climate change.\n",
      "*   **Key Features:** Excellent swimmers, thick fur for insulation, and powerful predators.\n",
      "*   **Where to Learn More:** Focus on their adaptations to the Arctic environment and the challenges they face due to melting sea ice.\n",
      "\n",
      "**To guide your learning, consider these questions:**\n",
      "\n",
      "*   **Where do they live?** (Geography, habitat)\n",
      "*   **What do they eat?** (Diet, trophic level)\n",
      "*   **How do they behave?** (Social structure, communication, hunting strategies)\n",
      "*   **What are the threats to their survival?** (Conservation status, human impact)\n",
      "*   **What adaptations do they have for their environment?** (Physical and behavioral)\n",
      "\n",
      "**Where to Find Information:**\n",
      "\n",
      "*   **NOAA Fisheries:** A great resource for information on marine mammals in the US.\n",
      "*   **World Wildlife Fund (WWF):** Provides information on conservation efforts and threats to marine mammals globally.\n",
      "*   **National Geographic:** Offers articles, videos, and stunning photography of marine mammals.\n",
      "*   **University Websites:** Many universities have marine biology programs with research focused on marine mammals.\n",
      "\n",
      "I suggest picking one or two of these groups that sound most interesting to you and diving deeper! Which of these groups sparks your curiosity the most?\n"
     ]
    }
   ],
   "source": [
    "output = graph.invoke({'messages': messages})\n",
    "for m in output['messages']:\n",
    "    m.pretty_print()"
   ]
  },
  {
   "cell_type": "markdown",
   "id": "34c33e63-1ef4-412d-bb10-6a1b9e5b35a7",
   "metadata": {},
   "source": [
    "## Reducer\n",
    "\n",
    "A practical challenge when working with messages is managing long-running conversations. \n",
    "\n",
    "Long-running conversations result in high token usage and latency if we are not careful, because we pass a growing list of messages to the model.\n",
    "\n",
    "We have a few ways to address this.\n",
    "\n",
    "First, recall the trick we saw using `RemoveMessage` and the `add_messages` reducer."
   ]
  },
  {
   "cell_type": "code",
   "execution_count": 7,
   "id": "222c6bc5-bb0e-4a43-80f5-c8ec38d99f3a",
   "metadata": {},
   "outputs": [
    {
     "data": {
      "image/png": "[encoded data removed]",
      "text/plain": [
       "<IPython.core.display.Image object>"
      ]
     },
     "metadata": {},
     "output_type": "display_data"
    }
   ],
   "source": [
    "from langchain_core.messages import RemoveMessage\n",
    "\n",
    "# Nodes\n",
    "def filter_messages(state: MessagesState):\n",
    "    # Delete all but the 2 most recent messages\n",
    "    delete_messages = [RemoveMessage(id=m.id) for m in state[\"messages\"][:-2]]\n",
    "    return {\"messages\": delete_messages}\n",
    "\n",
    "def chat_model_node(state: MessagesState):    \n",
    "    return {\"messages\": [llm.invoke(state[\"messages\"])]}\n",
    "\n",
    "# Build graph\n",
    "builder = StateGraph(MessagesState)\n",
    "builder.add_node(\"filter\", filter_messages)\n",
    "builder.add_node(\"chat_model\", chat_model_node)\n",
    "builder.add_edge(START, \"filter\")\n",
    "builder.add_edge(\"filter\", \"chat_model\")\n",
    "builder.add_edge(\"chat_model\", END)\n",
    "graph = builder.compile()\n",
    "\n",
    "# View\n",
    "display(Image(graph.get_graph().draw_mermaid_png()))"
   ]
  },
  {
   "cell_type": "code",
   "execution_count": 8,
   "id": "95a7c2cc-54ce-43e7-9a90-abf37827d709",
   "metadata": {},
   "outputs": [
    {
     "name": "stdout",
     "output_type": "stream",
     "text": [
      "==================================\u001b[1m Ai Message \u001b[0m==================================\n",
      "Name: Bot\n",
      "\n",
      "So you said you were researching ocean mammals?\n",
      "================================\u001b[1m Human Message \u001b[0m=================================\n",
      "Name: Lance\n",
      "\n",
      "Yes, I know about whales. But what others should I learn about?\n",
      "==================================\u001b[1m Ai Message \u001b[0m==================================\n",
      "\n",
      "Okay, great! Since you know about whales (which are cetaceans), let's broaden your horizons a bit. Here are some other fascinating groups of marine mammals you should definitely learn about, categorized for easier understanding:\n",
      "\n",
      "**1. Other Cetaceans (Whales, Dolphins, and Porpoises):**\n",
      "\n",
      "*   **Dolphins:** These are toothed whales known for their intelligence, playful behavior, and streamlined bodies. Common examples include bottlenose dolphins, orcas (killer whales - technically a type of dolphin), and spinner dolphins. Focus on their social structures, communication methods, and hunting strategies.\n",
      "*   **Porpoises:** Often confused with dolphins, porpoises are generally smaller and have more triangular dorsal fins and blunt snouts. Examples include harbor porpoises and Dall's porpoises. They often have different habitat preferences than dolphins.\n",
      "\n",
      "**2. Pinnipeds (Seals, Sea Lions, and Walruses):**\n",
      "\n",
      "*   **Seals (True Seals):** These are generally less agile on land, lacking external ear flaps and using their front flippers primarily for steering in the water. Examples include harbor seals, gray seals, and elephant seals.\n",
      "*   **Sea Lions (Eared Seals):** More agile on land, sea lions have external ear flaps and can rotate their hind flippers forward to walk more easily. Examples include California sea lions, Steller sea lions, and Australian sea lions.\n",
      "*   **Walruses:** Distinguished by their prominent tusks, walruses inhabit Arctic regions and use their tusks for hauling themselves onto ice and foraging on the seafloor.\n",
      "\n",
      "**3. Sirenians (Manatees and Dugongs):**\n",
      "\n",
      "*   **Manatees:** Herbivorous marine mammals found in warm coastal waters and rivers. They are often called \"sea cows\" due to their diet of aquatic plants. Three species exist: West Indian manatee, Amazonian manatee, and African manatee.\n",
      "*   **Dugongs:** Similar to manatees but with a more dolphin-like tail and a more strictly marine habitat. They are found in the Indo-Pacific region.\n",
      "\n",
      "**4. Sea Otter:**\n",
      "\n",
      "*   **Sea Otters:** These are the smallest marine mammals in North America and are known for their thick fur, which keeps them warm in cold waters. They are also unique for using tools, such as rocks, to crack open shellfish.\n",
      "\n",
      "**5. Polar Bear:**\n",
      "\n",
      "*   **Polar Bears:** Although they spend much of their time on ice, polar bears are classified as marine mammals because they rely on the ocean for their food (primarily seals).\n",
      "\n",
      "**To guide your research, consider exploring these aspects for each group:**\n",
      "\n",
      "*   **Habitat and Distribution:** Where do they live? What are their preferred environments?\n",
      "*   **Diet and Foraging:** What do they eat? How do they find food?\n",
      "*   **Social Behavior:** Are they solitary or social? What are their social structures like?\n",
      "*   **Reproduction and Life Cycle:** How do they reproduce? What is their lifespan?\n",
      "*   **Conservation Status:** Are they endangered, threatened, or stable? What are the main threats to their survival?\n",
      "*   **Adaptations:** What unique physical or behavioral adaptations help them survive in their marine environment?\n",
      "*   **Evolutionary History:** How are they related to other mammals?\n",
      "\n",
      "**Where to Start Looking for Information:**\n",
      "\n",
      "*   **NOAA Fisheries (National Oceanic and Atmospheric Administration):** Excellent source for information on marine mammal conservation and research.\n",
      "*   **The Marine Mammal Center:** A leading marine mammal rescue and rehabilitation organization.\n",
      "*   **World Wildlife Fund (WWF):** Provides information on marine mammal conservation efforts.\n",
      "*   **Scientific journals:** Search databases like Google Scholar, JSTOR, or Web of Science for research articles.\n",
      "*   **Books:** Look for reputable books on marine mammals at your local library or bookstore.\n",
      "\n",
      "By exploring these different groups and focusing on the suggested aspects, you'll gain a much broader and deeper understanding of the amazing world of marine mammals! Let me know if you have any more questions. Good luck with your research!\n"
     ]
    }
   ],
   "source": [
    "# Message list with a preamble\n",
    "messages = [AIMessage(\"Hi.\", name=\"Bot\", id=\"1\")]\n",
    "messages.append(HumanMessage(\"Hi.\", name=\"Lance\", id=\"2\"))\n",
    "messages.append(AIMessage(\"So you said you were researching ocean mammals?\", name=\"Bot\", id=\"3\"))\n",
    "messages.append(HumanMessage(\"Yes, I know about whales. But what others should I learn about?\", name=\"Lance\", id=\"4\"))\n",
    "\n",
    "# Invoke\n",
    "output = graph.invoke({'messages': messages})\n",
    "for m in output['messages']:\n",
    "    m.pretty_print()"
   ]
  },
  {
   "cell_type": "markdown",
   "id": "f506457d-014b-4fee-a684-e5edfb4b8f0d",
   "metadata": {},
   "source": [
    "## Filtering messages\n",
    "\n",
    "If you don't need or want to modify the graph state, you can just filter the messages you pass to the chat model.\n",
    "\n",
    "For example, just pass in a filtered list: `llm.invoke(messages[-1:])` to the model."
   ]
  },
  {
   "cell_type": "code",
   "execution_count": 9,
   "id": "22d0b904-7cd6-486b-8948-105bee3d4683",
   "metadata": {},
   "outputs": [
    {
     "data": {
      "image/png": "[encoded data removed]",
      "text/plain": [
       "<IPython.core.display.Image object>"
      ]
     },
     "metadata": {},
     "output_type": "display_data"
    }
   ],
   "source": [
    "# Node\n",
    "def chat_model_node(state: MessagesState):\n",
    "    return {\"messages\": [llm.invoke(state[\"messages\"][-1:])]}\n",
    "\n",
    "# Build graph\n",
    "builder = StateGraph(MessagesState)\n",
    "builder.add_node(\"chat_model\", chat_model_node)\n",
    "builder.add_edge(START, \"chat_model\")\n",
    "builder.add_edge(\"chat_model\", END)\n",
    "graph = builder.compile()\n",
    "\n",
    "# View\n",
    "display(Image(graph.get_graph().draw_mermaid_png()))"
   ]
  },
  {
   "cell_type": "markdown",
   "id": "6f58c6fc-532f-418d-b70a-cfcb3307daf5",
   "metadata": {},
   "source": [
    "Let's take our existing list of messages, append the above LLM response, and append a follow-up question."
   ]
  },
  {
   "cell_type": "code",
   "execution_count": 10,
   "id": "16956015-1dbe-4108-89b5-4209b68b51ca",
   "metadata": {},
   "outputs": [],
   "source": [
    "messages.append(output['messages'][-1])\n",
    "messages.append(HumanMessage(f\"Tell me more about Narwhals!\", name=\"Lance\"))"
   ]
  },
  {
   "cell_type": "code",
   "execution_count": 11,
   "id": "85563415-c085-46a8-a4ac-155df798c54e",
   "metadata": {},
   "outputs": [
    {
     "name": "stdout",
     "output_type": "stream",
     "text": [
      "==================================\u001b[1m Ai Message \u001b[0m==================================\n",
      "Name: Bot\n",
      "\n",
      "Hi.\n",
      "================================\u001b[1m Human Message \u001b[0m=================================\n",
      "Name: Lance\n",
      "\n",
      "Hi.\n",
      "==================================\u001b[1m Ai Message \u001b[0m==================================\n",
      "Name: Bot\n",
      "\n",
      "So you said you were researching ocean mammals?\n",
      "================================\u001b[1m Human Message \u001b[0m=================================\n",
      "Name: Lance\n",
      "\n",
      "Yes, I know about whales. But what others should I learn about?\n",
      "==================================\u001b[1m Ai Message \u001b[0m==================================\n",
      "\n",
      "Okay, great! Since you know about whales (which are cetaceans), let's broaden your horizons a bit. Here are some other fascinating groups of marine mammals you should definitely learn about, categorized for easier understanding:\n",
      "\n",
      "**1. Other Cetaceans (Whales, Dolphins, and Porpoises):**\n",
      "\n",
      "*   **Dolphins:** These are toothed whales known for their intelligence, playful behavior, and streamlined bodies. Common examples include bottlenose dolphins, orcas (killer whales - technically a type of dolphin), and spinner dolphins. Focus on their social structures, communication methods, and hunting strategies.\n",
      "*   **Porpoises:** Often confused with dolphins, porpoises are generally smaller and have more triangular dorsal fins and blunt snouts. Examples include harbor porpoises and Dall's porpoises. They often have different habitat preferences than dolphins.\n",
      "\n",
      "**2. Pinnipeds (Seals, Sea Lions, and Walruses):**\n",
      "\n",
      "*   **Seals (True Seals):** These are generally less agile on land, lacking external ear flaps and using their front flippers primarily for steering in the water. Examples include harbor seals, gray seals, and elephant seals.\n",
      "*   **Sea Lions (Eared Seals):** More agile on land, sea lions have external ear flaps and can rotate their hind flippers forward to walk more easily. Examples include California sea lions, Steller sea lions, and Australian sea lions.\n",
      "*   **Walruses:** Distinguished by their prominent tusks, walruses inhabit Arctic regions and use their tusks for hauling themselves onto ice and foraging on the seafloor.\n",
      "\n",
      "**3. Sirenians (Manatees and Dugongs):**\n",
      "\n",
      "*   **Manatees:** Herbivorous marine mammals found in warm coastal waters and rivers. They are often called \"sea cows\" due to their diet of aquatic plants. Three species exist: West Indian manatee, Amazonian manatee, and African manatee.\n",
      "*   **Dugongs:** Similar to manatees but with a more dolphin-like tail and a more strictly marine habitat. They are found in the Indo-Pacific region.\n",
      "\n",
      "**4. Sea Otter:**\n",
      "\n",
      "*   **Sea Otters:** These are the smallest marine mammals in North America and are known for their thick fur, which keeps them warm in cold waters. They are also unique for using tools, such as rocks, to crack open shellfish.\n",
      "\n",
      "**5. Polar Bear:**\n",
      "\n",
      "*   **Polar Bears:** Although they spend much of their time on ice, polar bears are classified as marine mammals because they rely on the ocean for their food (primarily seals).\n",
      "\n",
      "**To guide your research, consider exploring these aspects for each group:**\n",
      "\n",
      "*   **Habitat and Distribution:** Where do they live? What are their preferred environments?\n",
      "*   **Diet and Foraging:** What do they eat? How do they find food?\n",
      "*   **Social Behavior:** Are they solitary or social? What are their social structures like?\n",
      "*   **Reproduction and Life Cycle:** How do they reproduce? What is their lifespan?\n",
      "*   **Conservation Status:** Are they endangered, threatened, or stable? What are the main threats to their survival?\n",
      "*   **Adaptations:** What unique physical or behavioral adaptations help them survive in their marine environment?\n",
      "*   **Evolutionary History:** How are they related to other mammals?\n",
      "\n",
      "**Where to Start Looking for Information:**\n",
      "\n",
      "*   **NOAA Fisheries (National Oceanic and Atmospheric Administration):** Excellent source for information on marine mammal conservation and research.\n",
      "*   **The Marine Mammal Center:** A leading marine mammal rescue and rehabilitation organization.\n",
      "*   **World Wildlife Fund (WWF):** Provides information on marine mammal conservation efforts.\n",
      "*   **Scientific journals:** Search databases like Google Scholar, JSTOR, or Web of Science for research articles.\n",
      "*   **Books:** Look for reputable books on marine mammals at your local library or bookstore.\n",
      "\n",
      "By exploring these different groups and focusing on the suggested aspects, you'll gain a much broader and deeper understanding of the amazing world of marine mammals! Let me know if you have any more questions. Good luck with your research!\n",
      "================================\u001b[1m Human Message \u001b[0m=================================\n",
      "Name: Lance\n",
      "\n",
      "Tell me more about Narwhals!\n"
     ]
    }
   ],
   "source": [
    "for m in messages:\n",
    "    m.pretty_print()"
   ]
  },
  {
   "cell_type": "code",
   "execution_count": 12,
   "id": "23349705-a059-47b5-9760-d8f64e687393",
   "metadata": {},
   "outputs": [
    {
     "name": "stdout",
     "output_type": "stream",
     "text": [
      "==================================\u001b[1m Ai Message \u001b[0m==================================\n",
      "Name: Bot\n",
      "\n",
      "Hi.\n",
      "================================\u001b[1m Human Message \u001b[0m=================================\n",
      "Name: Lance\n",
      "\n",
      "Hi.\n",
      "==================================\u001b[1m Ai Message \u001b[0m==================================\n",
      "Name: Bot\n",
      "\n",
      "So you said you were researching ocean mammals?\n",
      "================================\u001b[1m Human Message \u001b[0m=================================\n",
      "Name: Lance\n",
      "\n",
      "Yes, I know about whales. But what others should I learn about?\n",
      "==================================\u001b[1m Ai Message \u001b[0m==================================\n",
      "\n",
      "Okay, great! Since you know about whales (which are cetaceans), let's broaden your horizons a bit. Here are some other fascinating groups of marine mammals you should definitely learn about, categorized for easier understanding:\n",
      "\n",
      "**1. Other Cetaceans (Whales, Dolphins, and Porpoises):**\n",
      "\n",
      "*   **Dolphins:** These are toothed whales known for their intelligence, playful behavior, and streamlined bodies. Common examples include bottlenose dolphins, orcas (killer whales - technically a type of dolphin), and spinner dolphins. Focus on their social structures, communication methods, and hunting strategies.\n",
      "*   **Porpoises:** Often confused with dolphins, porpoises are generally smaller and have more triangular dorsal fins and blunt snouts. Examples include harbor porpoises and Dall's porpoises. They often have different habitat preferences than dolphins.\n",
      "\n",
      "**2. Pinnipeds (Seals, Sea Lions, and Walruses):**\n",
      "\n",
      "*   **Seals (True Seals):** These are generally less agile on land, lacking external ear flaps and using their front flippers primarily for steering in the water. Examples include harbor seals, gray seals, and elephant seals.\n",
      "*   **Sea Lions (Eared Seals):** More agile on land, sea lions have external ear flaps and can rotate their hind flippers forward to walk more easily. Examples include California sea lions, Steller sea lions, and Australian sea lions.\n",
      "*   **Walruses:** Distinguished by their prominent tusks, walruses inhabit Arctic regions and use their tusks for hauling themselves onto ice and foraging on the seafloor.\n",
      "\n",
      "**3. Sirenians (Manatees and Dugongs):**\n",
      "\n",
      "*   **Manatees:** Herbivorous marine mammals found in warm coastal waters and rivers. They are often called \"sea cows\" due to their diet of aquatic plants. Three species exist: West Indian manatee, Amazonian manatee, and African manatee.\n",
      "*   **Dugongs:** Similar to manatees but with a more dolphin-like tail and a more strictly marine habitat. They are found in the Indo-Pacific region.\n",
      "\n",
      "**4. Sea Otter:**\n",
      "\n",
      "*   **Sea Otters:** These are the smallest marine mammals in North America and are known for their thick fur, which keeps them warm in cold waters. They are also unique for using tools, such as rocks, to crack open shellfish.\n",
      "\n",
      "**5. Polar Bear:**\n",
      "\n",
      "*   **Polar Bears:** Although they spend much of their time on ice, polar bears are classified as marine mammals because they rely on the ocean for their food (primarily seals).\n",
      "\n",
      "**To guide your research, consider exploring these aspects for each group:**\n",
      "\n",
      "*   **Habitat and Distribution:** Where do they live? What are their preferred environments?\n",
      "*   **Diet and Foraging:** What do they eat? How do they find food?\n",
      "*   **Social Behavior:** Are they solitary or social? What are their social structures like?\n",
      "*   **Reproduction and Life Cycle:** How do they reproduce? What is their lifespan?\n",
      "*   **Conservation Status:** Are they endangered, threatened, or stable? What are the main threats to their survival?\n",
      "*   **Adaptations:** What unique physical or behavioral adaptations help them survive in their marine environment?\n",
      "*   **Evolutionary History:** How are they related to other mammals?\n",
      "\n",
      "**Where to Start Looking for Information:**\n",
      "\n",
      "*   **NOAA Fisheries (National Oceanic and Atmospheric Administration):** Excellent source for information on marine mammal conservation and research.\n",
      "*   **The Marine Mammal Center:** A leading marine mammal rescue and rehabilitation organization.\n",
      "*   **World Wildlife Fund (WWF):** Provides information on marine mammal conservation efforts.\n",
      "*   **Scientific journals:** Search databases like Google Scholar, JSTOR, or Web of Science for research articles.\n",
      "*   **Books:** Look for reputable books on marine mammals at your local library or bookstore.\n",
      "\n",
      "By exploring these different groups and focusing on the suggested aspects, you'll gain a much broader and deeper understanding of the amazing world of marine mammals! Let me know if you have any more questions. Good luck with your research!\n",
      "================================\u001b[1m Human Message \u001b[0m=================================\n",
      "Name: Lance\n",
      "\n",
      "Tell me more about Narwhals!\n",
      "==================================\u001b[1m Ai Message \u001b[0m==================================\n",
      "\n",
      "Okay, let's dive into the fascinating world of Narwhals! Here's a breakdown of what makes these \"unicorns of the sea\" so unique:\n",
      "\n",
      "**Basic Facts:**\n",
      "\n",
      "*   **Scientific Name:** *Monodon monoceros* (meaning \"one tooth, one horn\")\n",
      "*   **Size:**  Adult males typically reach 13-18 feet (4-5.5 meters) long, excluding the tusk. Females are slightly smaller.\n",
      "*   **Weight:**  Adults can weigh between 1,750 and 3,500 pounds (770-1,600 kg).\n",
      "*   **Lifespan:**  Estimated to be 50 years or more.\n",
      "*   **Habitat:**  Arctic waters of Canada, Greenland, Russia, and Norway. They are highly adapted to icy environments.\n",
      "*   **Conservation Status:**  Near Threatened.  Their population is estimated to be around 170,000, but they face threats from climate change, hunting, and industrial development.\n",
      "\n",
      "**The Tusk (The Iconic Feature):**\n",
      "\n",
      "*   **What it is:** The tusk is actually an elongated upper left canine tooth that spirals counter-clockwise.\n",
      "*   **Who has it:** Primarily found in males, although about 15% of females also develop a tusk, which is usually smaller.\n",
      "*   **Size:** Can grow up to 10 feet (3 meters) long.\n",
      "*   **Composition:** Made of ivory, like other teeth.\n",
      "*   **Function (Still debated, but current understanding is):**\n",
      "    *   **Sensory Organ:** This is the leading theory. The tusk has millions of nerve endings inside and can detect changes in water temperature, salinity, and even pressure, providing the narwhal with valuable information about its environment.\n",
      "    *   **Social Signaling:** Used in displays of dominance and communication between males, especially during mating season. \"Tusking\" (rubbing tusks together) is a common behavior.\n",
      "    *   **Possibly for Hunting:** While not used for impaling prey, there's some evidence they might use it to stun small fish with a quick tap.\n",
      "\n",
      "**Appearance:**\n",
      "\n",
      "*   **Coloration:** Born with a mottled grey-brown color, they gradually become paler with age, sometimes appearing almost white in older individuals.\n",
      "*   **Body Shape:** Streamlined and torpedo-shaped, well-suited for swimming in cold waters.\n",
      "*   **Dorsal Fin:** They lack a dorsal fin, which is an adaptation to prevent heat loss and allow them to swim more easily under ice. Instead, they have a dorsal ridge.\n",
      "\n",
      "**Behavior and Diet:**\n",
      "\n",
      "*   **Social Animals:** They live in groups called pods, which can range in size from a few individuals to hundreds.\n",
      "*   **Deep Divers:**  They are capable of diving to depths of over 5,000 feet (1,500 meters) and can hold their breath for up to 25 minutes.\n",
      "*   **Diet:** Primarily feed on Greenland halibut, Arctic cod, squid, and shrimp. They use suction feeding to capture their prey.\n",
      "*   **Migration:** They undertake seasonal migrations, moving between coastal waters in the summer and deeper offshore waters in the winter.\n",
      "\n",
      "**Threats:**\n",
      "\n",
      "*   **Climate Change:**  Melting sea ice reduces their habitat and makes them more vulnerable to predation by killer whales.  Changes in prey distribution also affect their food supply.\n",
      "*   **Hunting:**  Indigenous Arctic communities have traditionally hunted narwhals for their meat, skin (muktuk), and tusks.  While regulated, hunting continues to be a factor.\n",
      "*   **Industrial Development:**  Oil and gas exploration, shipping, and mining activities can disrupt their habitat, increase noise pollution, and increase the risk of collisions.\n",
      "*   **Entanglement:**  They can become entangled in fishing gear, leading to injury or death.\n",
      "\n",
      "**Interesting Facts:**\n",
      "\n",
      "*   The name \"narwhal\" comes from the Old Norse word \"nár,\" meaning corpse, referring to their mottled grey color that resembles a drowned body.\n",
      "*   Narwhal tusks were once believed to possess magical powers and were highly valued in Europe during the Middle Ages.  They were often presented as unicorn horns.\n",
      "*   Their diving ability is remarkable, exceeding that of many other marine mammals.\n",
      "*   Narwhals are closely related to beluga whales.\n",
      "\n",
      "**In summary, Narwhals are highly specialized Arctic whales with a unique and enigmatic tusk. They are important members of the Arctic ecosystem and face increasing challenges due to human activities and climate change. Their sensory abilities and complex social behavior make them truly fascinating creatures.**\n",
      "\n",
      "Do you have any specific questions about narwhals that you'd like me to answer? I can go into more detail on any of these topics. For example, we could discuss:\n",
      "\n",
      "*   The sensory capabilities of the tusk in more detail.\n",
      "*   The social structure of narwhal pods.\n",
      "*   The impact of climate change on their population.\n",
      "*   Their relationship with indigenous Arctic communities.\n",
      "*   How scientists study narwhals.\n"
     ]
    }
   ],
   "source": [
    "# Invoke, using message filtering\n",
    "output = graph.invoke({'messages': messages})\n",
    "for m in output['messages']:\n",
    "    m.pretty_print()"
   ]
  },
  {
   "cell_type": "markdown",
   "id": "42e1d8d2-e297-4d78-b54c-d12b3c866745",
   "metadata": {},
   "source": [
    "The state has all of the mesages.\n",
    "\n",
    "But, let's look at the LangSmith trace to see that the model invocation only uses the last message:\n",
    "\n",
    "https://smith.langchain.com/public/75aca3ce-ef19-4b92-94be-0178c7a660d9/r"
   ]
  },
  {
   "cell_type": "markdown",
   "id": "fc40d930-3c1f-47fe-8d2a-ce174873353c",
   "metadata": {},
   "source": [
    "## Trim messages\n",
    "\n",
    "Another approach is to [trim messages](https://python.langchain.com/v0.2/docs/how_to/trim_messages/#getting-the-last-max_tokens-tokens), based upon a set number of tokens. \n",
    "\n",
    "This restricts the message history to a specified number of tokens.\n",
    "\n",
    "While filtering only returns a post-hoc subset of the messages between agents, trimming restricts the number of tokens that a chat model can use to respond.\n",
    "\n",
    "See the `trim_messages` below."
   ]
  },
  {
   "cell_type": "code",
   "execution_count": 18,
   "id": "2ff99b81-cf03-4cc2-b44f-44829a73e1fd",
   "metadata": {},
   "outputs": [
    {
     "data": {
      "image/png": "[encoded data removed]",
      "text/plain": [
       "<IPython.core.display.Image object>"
      ]
     },
     "metadata": {},
     "output_type": "display_data"
    }
   ],
   "source": [
    "from langchain_core.messages import trim_messages\n",
    "\n",
    "# Node\n",
    "def chat_model_node(state: MessagesState):\n",
    "    messages = trim_messages(\n",
    "            state[\"messages\"],\n",
    "            max_tokens=100,\n",
    "            strategy=\"last\",\n",
    "            # token_counter=ChatOpenAI(model=\"gpt-4o\"),\n",
    "            token_counter=ChatGoogleGenerativeAI(model=\"gemini-2.0-flash\"),\n",
    "            allow_partial=True,\n",
    "        )\n",
    "    return {\"messages\": [llm.invoke(messages)]}\n",
    "\n",
    "# Build graph\n",
    "builder = StateGraph(MessagesState)\n",
    "builder.add_node(\"chat_model\", chat_model_node)\n",
    "builder.add_edge(START, \"chat_model\")\n",
    "builder.add_edge(\"chat_model\", END)\n",
    "graph = builder.compile()\n",
    "\n",
    "# View\n",
    "display(Image(graph.get_graph().draw_mermaid_png()))"
   ]
  },
  {
   "cell_type": "code",
   "execution_count": 19,
   "id": "24df63ac-da29-4874-b3df-7e390e97cc8a",
   "metadata": {},
   "outputs": [],
   "source": [
    "messages.append(output['messages'][-1])\n",
    "messages.append(HumanMessage(f\"Tell me where Orcas live!\", name=\"Lance\"))"
   ]
  },
  {
   "cell_type": "code",
   "execution_count": 20,
   "id": "6d9d8971-c75c-43ca-a209-eb1d07b2ead0",
   "metadata": {},
   "outputs": [
    {
     "data": {
      "text/plain": [
       "[HumanMessage(content='Tell me where Orcas live!', additional_kwargs={}, response_metadata={}, name='Lance')]"
      ]
     },
     "execution_count": 20,
     "metadata": {},
     "output_type": "execute_result"
    }
   ],
   "source": [
    "# Example of trimming messages\n",
    "trim_messages(\n",
    "            messages,\n",
    "            max_tokens=100,\n",
    "            strategy=\"last\",\n",
    "            token_counter=ChatGoogleGenerativeAI(model=\"gemini-2.0-flash\"),\n",
    "            allow_partial=False\n",
    "        )"
   ]
  },
  {
   "cell_type": "code",
   "execution_count": 21,
   "id": "ed70a269-a869-4fa0-a1df-29736a432c51",
   "metadata": {},
   "outputs": [],
   "source": [
    "# Invoke, using message trimming in the chat_model_node \n",
    "messages_out_trim = graph.invoke({'messages': messages})"
   ]
  },
  {
   "cell_type": "markdown",
   "id": "38b3db67-380e-46b5-9a6a-20100ba52008",
   "metadata": {},
   "source": [
    "Let's look at the LangSmith trace to see the model invocation:\n",
    "\n",
    "https://smith.langchain.com/public/b153f7e9-f1a5-4d60-8074-f0d7ab5b42ef/r"
   ]
  }
 ],
 "metadata": {
  "kernelspec": {
   "display_name": "pytorch",
   "language": "python",
   "name": "python3"
  },
  "language_info": {
   "codemirror_mode": {
    "name": "ipython",
    "version": 3
   },
   "file_extension": ".py",
   "mimetype": "text/x-python",
   "name": "python",
   "nbconvert_exporter": "python",
   "pygments_lexer": "ipython3",
   "version": "3.12.3"
  }
 },
 "nbformat": 4,
 "nbformat_minor": 5
}
