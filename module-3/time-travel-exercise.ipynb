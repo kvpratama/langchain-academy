{
 "cells": [
  {
   "cell_type": "code",
   "execution_count": 1,
   "id": "49673f63",
   "metadata": {},
   "outputs": [],
   "source": [
    "from IPython.display import Image, display\n",
    "\n",
    "from langgraph.checkpoint.memory import MemorySaver\n",
    "from langgraph.graph import MessagesState\n",
    "from langgraph.graph import START, END, StateGraph\n",
    "from langgraph.prebuilt import tools_condition, ToolNode\n",
    "import time \n",
    "from langchain_core.messages import AIMessage, HumanMessage, SystemMessage\n",
    "\n",
    "class CustomState(MessagesState):\n",
    "    forked: bool\n",
    "\n",
    "# Node\n",
    "def node1(state: CustomState):\n",
    "    # print(state.keys())\n",
    "    # print(\"Node 1: This is the first node in the graph.\")\n",
    "    time.sleep(10)  # Simulate some processing time\n",
    "    return {\"messages\": AIMessage(content=\"Hello from Node 1! Forked: \" + str(state[\"forked\"]))}\n",
    "def node2(state: CustomState):\n",
    "    # print(\"Node 2: This is the second node in the graph.\")\n",
    "    time.sleep(10)  # Simulate some processing time\n",
    "    return {\"messages\": AIMessage(content=\"Hello from Node 2! Forked: \" + str(state[\"forked\"]))}\n",
    "def node3(state: CustomState):\n",
    "    # print(\"Node 3: This is the third node in the graph.\")\n",
    "    time.sleep(10)  # Simulate some processing time\n",
    "    return {\"messages\": AIMessage(content=\"Hello from Node 3! Forked: \" + str(state[\"forked\"]))}\n",
    "def node4(state: CustomState):\n",
    "    # print(\"Node 4: This is the fourth node in the graph.\")\n",
    "    time.sleep(10)  # Simulate some processing time\n",
    "    return {\"messages\": AIMessage(content=\"Hello from Node 4! Forked: \" + str(state[\"forked\"]))}\n",
    "\n",
    "# Graph\n",
    "builder = StateGraph(CustomState)\n",
    "\n",
    "# Define nodes: these do the work\n",
    "builder.add_node(\"node1\", node1)\n",
    "builder.add_node(\"node2\", node2)\n",
    "builder.add_node(\"node3\", node3)\n",
    "builder.add_node(\"node4\", node4)\n",
    "# Define edges: these determine the control flow\n",
    "builder.add_edge(START, \"node1\")\n",
    "builder.add_edge(\"node1\", \"node2\")\n",
    "builder.add_edge(\"node2\", \"node3\")\n",
    "builder.add_edge(\"node3\", \"node4\")\n",
    "builder.add_edge(\"node4\", END)\n",
    "\n",
    "\n",
    "memory = MemorySaver()\n",
    "graph = builder.compile(checkpointer=MemorySaver())\n",
    "\n",
    "# Show\n",
    "# display(Image(graph.get_graph(xray=True).draw_mermaid_png()))"
   ]
  },
  {
   "cell_type": "code",
   "execution_count": 2,
   "id": "356db657",
   "metadata": {},
   "outputs": [
    {
     "name": "stdout",
     "output_type": "stream",
     "text": [
      "================================\u001b[1m Human Message \u001b[0m=================================\n",
      "\n",
      "Human input to start the graph.\n",
      "==================================\u001b[1m Ai Message \u001b[0m==================================\n",
      "\n",
      "Hello from Node 1! Forked: False\n",
      "==================================\u001b[1m Ai Message \u001b[0m==================================\n",
      "\n",
      "Hello from Node 2! Forked: False\n",
      "==================================\u001b[1m Ai Message \u001b[0m==================================\n",
      "\n",
      "Hello from Node 3! Forked: False\n",
      "==================================\u001b[1m Ai Message \u001b[0m==================================\n",
      "\n",
      "Hello from Node 4! Forked: False\n"
     ]
    }
   ],
   "source": [
    "initial_input = {\"messages\": HumanMessage(content=\"Human input to start the graph.\"),\n",
    "                  \"forked\": False}\n",
    "\n",
    "thread = {\"configurable\": {\"thread_id\": \"11\"}}\n",
    "\n",
    "# Run the graph until the first interruption\n",
    "for event in graph.stream(initial_input, thread, stream_mode=\"values\"):\n",
    "    event['messages'][-1].pretty_print()"
   ]
  },
  {
   "cell_type": "code",
   "execution_count": 3,
   "id": "21675f26",
   "metadata": {},
   "outputs": [
    {
     "data": {
      "text/plain": [
       "StateSnapshot(values={'messages': [HumanMessage(content='Human input to start the graph.', additional_kwargs={}, response_metadata={}, id='c9fb3512-1c38-4c3e-bbee-ea0efb110e5e'), AIMessage(content='Hello from Node 1! Forked: False', additional_kwargs={}, response_metadata={}, id='be40b70b-c389-4dde-aa01-96159228cf0e'), AIMessage(content='Hello from Node 2! Forked: False', additional_kwargs={}, response_metadata={}, id='687a6f86-a3db-44f1-a62b-360ba8ccee93'), AIMessage(content='Hello from Node 3! Forked: False', additional_kwargs={}, response_metadata={}, id='a66e9319-c57d-4190-9400-a61852a77f88'), AIMessage(content='Hello from Node 4! Forked: False', additional_kwargs={}, response_metadata={}, id='1cce4197-9df0-474a-aa86-2b91e2e2ac50')], 'forked': False}, next=(), config={'configurable': {'thread_id': '11', 'checkpoint_ns': '', 'checkpoint_id': '1f03c392-a110-6f6e-8004-69d0e2ad2f5e'}}, metadata={'source': 'loop', 'writes': {'node4': {'messages': AIMessage(content='Hello from Node 4! Forked: False', additional_kwargs={}, response_metadata={}, id='1cce4197-9df0-474a-aa86-2b91e2e2ac50')}}, 'step': 4, 'parents': {}, 'thread_id': '11'}, created_at='2025-05-29T03:01:06.504894+00:00', parent_config={'configurable': {'thread_id': '11', 'checkpoint_ns': '', 'checkpoint_id': '1f03c392-41a7-69fb-8003-cc23e21aa6aa'}}, tasks=(), interrupts=())"
      ]
     },
     "execution_count": 3,
     "metadata": {},
     "output_type": "execute_result"
    }
   ],
   "source": [
    "graph.get_state({'configurable': {'thread_id': '11'}})"
   ]
  },
  {
   "cell_type": "code",
   "execution_count": 4,
   "id": "963287cd",
   "metadata": {},
   "outputs": [
    {
     "data": {
      "text/plain": [
       "6"
      ]
     },
     "execution_count": 4,
     "metadata": {},
     "output_type": "execute_result"
    }
   ],
   "source": [
    "all_states = [s for s in graph.get_state_history(thread)]\n",
    "len(all_states)\n",
    "# print(\"All states in the graph:\")\n",
    "# for state in all_states:\n",
    "#     print(state)"
   ]
  },
  {
   "cell_type": "markdown",
   "id": "589f5d66",
   "metadata": {},
   "source": [
    "## Replaying (Obsolete - now is Resuming) \n",
    "[Link](https://github.com/langchain-ai/langgraph/discussions/3015)"
   ]
  },
  {
   "cell_type": "code",
   "execution_count": 5,
   "id": "15d01598",
   "metadata": {},
   "outputs": [
    {
     "data": {
      "text/plain": [
       "StateSnapshot(values={'messages': [HumanMessage(content='Human input to start the graph.', additional_kwargs={}, response_metadata={}, id='c9fb3512-1c38-4c3e-bbee-ea0efb110e5e'), AIMessage(content='Hello from Node 1! Forked: False', additional_kwargs={}, response_metadata={}, id='be40b70b-c389-4dde-aa01-96159228cf0e'), AIMessage(content='Hello from Node 2! Forked: False', additional_kwargs={}, response_metadata={}, id='687a6f86-a3db-44f1-a62b-360ba8ccee93')], 'forked': False}, next=('node3',), config={'configurable': {'thread_id': '11', 'checkpoint_ns': '', 'checkpoint_id': '1f03c391-e23d-6b53-8002-96c363afed58'}}, metadata={'source': 'loop', 'writes': {'node2': {'messages': AIMessage(content='Hello from Node 2! Forked: False', additional_kwargs={}, response_metadata={}, id='687a6f86-a3db-44f1-a62b-360ba8ccee93')}}, 'step': 2, 'parents': {}, 'thread_id': '11'}, created_at='2025-05-29T03:00:46.495419+00:00', parent_config={'configurable': {'thread_id': '11', 'checkpoint_ns': '', 'checkpoint_id': '1f03c391-82cd-6a63-8001-4d5c295587d7'}}, tasks=(PregelTask(id='9265741b-0a5a-7078-75aa-e40daf004bc3', name='node3', path=('__pregel_pull', 'node3'), error=None, interrupts=(), state=None, result={'messages': AIMessage(content='Hello from Node 3! Forked: False', additional_kwargs={}, response_metadata={}, id='a66e9319-c57d-4190-9400-a61852a77f88')}),), interrupts=())"
      ]
     },
     "execution_count": 5,
     "metadata": {},
     "output_type": "execute_result"
    }
   ],
   "source": [
    "to_replay = all_states[2]\n",
    "to_replay"
   ]
  },
  {
   "cell_type": "code",
   "execution_count": 6,
   "id": "0c146774",
   "metadata": {},
   "outputs": [
    {
     "data": {
      "text/plain": [
       "{'messages': [HumanMessage(content='Human input to start the graph.', additional_kwargs={}, response_metadata={}, id='c9fb3512-1c38-4c3e-bbee-ea0efb110e5e'),\n",
       "  AIMessage(content='Hello from Node 1! Forked: False', additional_kwargs={}, response_metadata={}, id='be40b70b-c389-4dde-aa01-96159228cf0e'),\n",
       "  AIMessage(content='Hello from Node 2! Forked: False', additional_kwargs={}, response_metadata={}, id='687a6f86-a3db-44f1-a62b-360ba8ccee93')],\n",
       " 'forked': False}"
      ]
     },
     "execution_count": 6,
     "metadata": {},
     "output_type": "execute_result"
    }
   ],
   "source": [
    "to_replay.values"
   ]
  },
  {
   "cell_type": "code",
   "execution_count": 7,
   "id": "0ca4371f",
   "metadata": {},
   "outputs": [
    {
     "data": {
      "text/plain": [
       "('node3',)"
      ]
     },
     "execution_count": 7,
     "metadata": {},
     "output_type": "execute_result"
    }
   ],
   "source": [
    "to_replay.next"
   ]
  },
  {
   "cell_type": "code",
   "execution_count": 8,
   "id": "e85349d1",
   "metadata": {},
   "outputs": [
    {
     "data": {
      "text/plain": [
       "{'configurable': {'thread_id': '11',\n",
       "  'checkpoint_ns': '',\n",
       "  'checkpoint_id': '1f03c391-e23d-6b53-8002-96c363afed58'}}"
      ]
     },
     "execution_count": 8,
     "metadata": {},
     "output_type": "execute_result"
    }
   ],
   "source": [
    "to_replay.config"
   ]
  },
  {
   "cell_type": "code",
   "execution_count": 9,
   "id": "952f41ef",
   "metadata": {},
   "outputs": [
    {
     "name": "stdout",
     "output_type": "stream",
     "text": [
      "==================================\u001b[1m Ai Message \u001b[0m==================================\n",
      "\n",
      "Hello from Node 2! Forked: False\n",
      "==================================\u001b[1m Ai Message \u001b[0m==================================\n",
      "\n",
      "Hello from Node 3! Forked: False\n",
      "==================================\u001b[1m Ai Message \u001b[0m==================================\n",
      "\n",
      "Hello from Node 4! Forked: False\n"
     ]
    }
   ],
   "source": [
    "for event in graph.stream(None, to_replay.config, stream_mode=\"values\"):\n",
    "    event['messages'][-1].pretty_print()"
   ]
  },
  {
   "cell_type": "code",
   "execution_count": 10,
   "id": "c62414ac",
   "metadata": {},
   "outputs": [
    {
     "name": "stdout",
     "output_type": "stream",
     "text": [
      "8\n"
     ]
    }
   ],
   "source": [
    "all_states = [s for s in graph.get_state_history(thread)]\n",
    "print(len(all_states))\n",
    "# print(\"All states in the graph:\")\n",
    "# for state in all_states:\n",
    "#     print(state)"
   ]
  },
  {
   "cell_type": "markdown",
   "id": "45e6b0c5",
   "metadata": {},
   "source": [
    "## Forking"
   ]
  },
  {
   "cell_type": "code",
   "execution_count": 11,
   "id": "225f3949",
   "metadata": {},
   "outputs": [
    {
     "data": {
      "text/plain": [
       "[HumanMessage(content='Human input to start the graph.', additional_kwargs={}, response_metadata={}, id='e4a67f5c-fb68-4653-ab6b-021d66a342bc'),\n",
       " AIMessage(content='Hello from Node 1! Forked: False', additional_kwargs={}, response_metadata={}, id='b9b8638a-1f31-429b-94e6-89fce9f56ae5'),\n",
       " AIMessage(content='Hello from Node 2! Forked: False', additional_kwargs={}, response_metadata={}, id='722e38a9-d19d-48b7-81cc-2d009d4f8d6d')]"
      ]
     },
     "execution_count": 11,
     "metadata": {},
     "output_type": "execute_result"
    }
   ],
   "source": [
    "to_fork = all_states[4]\n",
    "to_fork.values[\"messages\"]"
   ]
  },
  {
   "cell_type": "code",
   "execution_count": 12,
   "id": "b9e0ab98",
   "metadata": {},
   "outputs": [
    {
     "data": {
      "text/plain": [
       "{'configurable': {'thread_id': '11',\n",
       "  'checkpoint_ns': '',\n",
       "  'checkpoint_id': '1f03c345-12c9-631d-8002-04d7f52d01f1'}}"
      ]
     },
     "execution_count": 12,
     "metadata": {},
     "output_type": "execute_result"
    }
   ],
   "source": [
    "to_fork.config"
   ]
  },
  {
   "cell_type": "code",
   "execution_count": 13,
   "id": "f97e0824",
   "metadata": {},
   "outputs": [],
   "source": [
    "fork_config = graph.update_state(\n",
    "    to_fork.config,\n",
    "    {\n",
    "        \"messages\": [HumanMessage(content='Human forked', \n",
    "                               id=to_fork.values[\"messages\"][-1].id)],\n",
    "        \"forked\": True\n",
    "    },\n",
    ")"
   ]
  },
  {
   "cell_type": "code",
   "execution_count": 14,
   "id": "e6147eee",
   "metadata": {},
   "outputs": [
    {
     "data": {
      "text/plain": [
       "{'configurable': {'thread_id': '11',\n",
       "  'checkpoint_ns': '',\n",
       "  'checkpoint_id': '1f03c348-bb06-6281-8003-c4786df22e61'}}"
      ]
     },
     "execution_count": 14,
     "metadata": {},
     "output_type": "execute_result"
    }
   ],
   "source": [
    "fork_config"
   ]
  },
  {
   "cell_type": "code",
   "execution_count": 15,
   "id": "e6737893",
   "metadata": {},
   "outputs": [
    {
     "data": {
      "text/plain": [
       "[HumanMessage(content='Human input to start the graph.', additional_kwargs={}, response_metadata={}, id='e4a67f5c-fb68-4653-ab6b-021d66a342bc'),\n",
       " AIMessage(content='Hello from Node 1! Forked: False', additional_kwargs={}, response_metadata={}, id='b9b8638a-1f31-429b-94e6-89fce9f56ae5'),\n",
       " HumanMessage(content='Human forked', additional_kwargs={}, response_metadata={}, id='722e38a9-d19d-48b7-81cc-2d009d4f8d6d')]"
      ]
     },
     "execution_count": 15,
     "metadata": {},
     "output_type": "execute_result"
    }
   ],
   "source": [
    "all_states = [state for state in graph.get_state_history(thread) ]\n",
    "all_states[0].values[\"messages\"]"
   ]
  },
  {
   "cell_type": "code",
   "execution_count": 16,
   "id": "9fb788c2",
   "metadata": {},
   "outputs": [
    {
     "data": {
      "text/plain": [
       "9"
      ]
     },
     "execution_count": 16,
     "metadata": {},
     "output_type": "execute_result"
    }
   ],
   "source": [
    "len(all_states)"
   ]
  },
  {
   "cell_type": "code",
   "execution_count": 17,
   "id": "23eee797",
   "metadata": {},
   "outputs": [
    {
     "data": {
      "text/plain": [
       "StateSnapshot(values={'messages': [HumanMessage(content='Human input to start the graph.', additional_kwargs={}, response_metadata={}, id='e4a67f5c-fb68-4653-ab6b-021d66a342bc'), AIMessage(content='Hello from Node 1! Forked: False', additional_kwargs={}, response_metadata={}, id='b9b8638a-1f31-429b-94e6-89fce9f56ae5'), HumanMessage(content='Human forked', additional_kwargs={}, response_metadata={}, id='722e38a9-d19d-48b7-81cc-2d009d4f8d6d')], 'forked': True}, next=('node3',), config={'configurable': {'thread_id': '11', 'checkpoint_ns': '', 'checkpoint_id': '1f03c348-bb06-6281-8003-c4786df22e61'}}, metadata={'source': 'update', 'writes': {'node2': {'messages': [HumanMessage(content='Human forked', additional_kwargs={}, response_metadata={}, id='722e38a9-d19d-48b7-81cc-2d009d4f8d6d')], 'forked': True}}, 'step': 3, 'parents': {}, 'thread_id': '11', 'checkpoint_ns': '', 'checkpoint_id': '1f03c345-12c9-631d-8002-04d7f52d01f1'}, created_at='2025-05-29T02:28:02.804390+00:00', parent_config={'configurable': {'thread_id': '11', 'checkpoint_ns': '', 'checkpoint_id': '1f03c345-12c9-631d-8002-04d7f52d01f1'}}, tasks=(PregelTask(id='6064865d-14cc-bee8-3109-7c0a9966346d', name='node3', path=('__pregel_pull', 'node3'), error=None, interrupts=(), state=None, result=None),), interrupts=())"
      ]
     },
     "execution_count": 17,
     "metadata": {},
     "output_type": "execute_result"
    }
   ],
   "source": [
    "graph.get_state({'configurable': {'thread_id': '11'}})"
   ]
  },
  {
   "cell_type": "code",
   "execution_count": 18,
   "id": "7b8e9c2e",
   "metadata": {},
   "outputs": [
    {
     "name": "stdout",
     "output_type": "stream",
     "text": [
      "================================\u001b[1m Human Message \u001b[0m=================================\n",
      "\n",
      "Human forked\n",
      "==================================\u001b[1m Ai Message \u001b[0m==================================\n",
      "\n",
      "Hello from Node 3! Forked: True\n",
      "==================================\u001b[1m Ai Message \u001b[0m==================================\n",
      "\n",
      "Hello from Node 4! Forked: True\n"
     ]
    }
   ],
   "source": [
    "for event in graph.stream(None, fork_config, stream_mode=\"values\"):\n",
    "    event['messages'][-1].pretty_print()"
   ]
  },
  {
   "cell_type": "code",
   "execution_count": 19,
   "id": "86e4a0e1",
   "metadata": {},
   "outputs": [
    {
     "data": {
      "text/plain": [
       "[HumanMessage(content='Human input to start the graph.', additional_kwargs={}, response_metadata={}, id='e4a67f5c-fb68-4653-ab6b-021d66a342bc'),\n",
       " AIMessage(content='Hello from Node 1! Forked: False', additional_kwargs={}, response_metadata={}, id='b9b8638a-1f31-429b-94e6-89fce9f56ae5'),\n",
       " HumanMessage(content='Human forked', additional_kwargs={}, response_metadata={}, id='722e38a9-d19d-48b7-81cc-2d009d4f8d6d'),\n",
       " AIMessage(content='Hello from Node 3! Forked: True', additional_kwargs={}, response_metadata={}, id='cb5f5961-5b5f-4ff7-a69e-3105dca3eb15'),\n",
       " AIMessage(content='Hello from Node 4! Forked: True', additional_kwargs={}, response_metadata={}, id='1919576a-56fd-497e-b147-0182db875835')]"
      ]
     },
     "execution_count": 19,
     "metadata": {},
     "output_type": "execute_result"
    }
   ],
   "source": [
    "all_states = [state for state in graph.get_state_history(thread) ]\n",
    "all_states[0].values[\"messages\"]"
   ]
  },
  {
   "cell_type": "code",
   "execution_count": 20,
   "id": "59cdd5a0",
   "metadata": {},
   "outputs": [
    {
     "data": {
      "text/plain": [
       "11"
      ]
     },
     "execution_count": 20,
     "metadata": {},
     "output_type": "execute_result"
    }
   ],
   "source": [
    "len(all_states)"
   ]
  }
 ],
 "metadata": {
  "kernelspec": {
   "display_name": "pytorch",
   "language": "python",
   "name": "python3"
  },
  "language_info": {
   "codemirror_mode": {
    "name": "ipython",
    "version": 3
   },
   "file_extension": ".py",
   "mimetype": "text/x-python",
   "name": "python",
   "nbconvert_exporter": "python",
   "pygments_lexer": "ipython3",
   "version": "3.12.3"
  }
 },
 "nbformat": 4,
 "nbformat_minor": 5
}
