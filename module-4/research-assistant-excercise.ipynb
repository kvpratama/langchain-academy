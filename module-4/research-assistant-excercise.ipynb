{
 "cells": [
  {
   "cell_type": "markdown",
   "id": "07da20f5",
   "metadata": {},
   "source": [
    "## Generate Analysts: Human-In-The-Loop"
   ]
  },
  {
   "cell_type": "code",
   "execution_count": 17,
   "id": "1698c0bb",
   "metadata": {},
   "outputs": [],
   "source": [
    "import os\n",
    "if \"GOOGLE_API_KEY\" not in os.environ:\n",
    "        os.environ[\"GOOGLE_API_KEY\"] = os.environ[\"GEMINI_API_KEY\"]\n",
    "\n",
    "# if \"MISTRAL_API_KEY\" not in os.environ:\n",
    "#     os.environ[\"MISTRAL_API_KEY\"] = os.environ[\"MISTRAL_API_KEY\"]\n",
    "\n",
    "from langchain_google_genai import ChatGoogleGenerativeAI\n",
    "llm = ChatGoogleGenerativeAI(model=\"gemini-2.0-flash\" ,temperature=0)\n",
    "# llm_versatile = ChatGoogleGenerativeAI(model=\"gemma-3n-e4b-it\" ,temperature=0.5)\n",
    "# llm_versatile = ChatGoogleGenerativeAI(model=\"gemma-3-27b-it\" ,temperature=0.5)\n",
    "llm_versatile = ChatGoogleGenerativeAI(model=\"gemini-2.0-flash-lite\" ,temperature=0.5)\n",
    "\n",
    "from langchain_mistralai import ChatMistralAI\n",
    "llm_creative = ChatMistralAI(model=\"mistral-small-2503\", temperature=1)\n",
    "\n",
    "# _set_env(\"LANGSMITH_API_KEY\")\n",
    "os.environ[\"LANGSMITH_TRACING\"] = \"true\"\n",
    "os.environ[\"LANGSMITH_PROJECT\"] = \"langchain-academy\"\n",
    "\n"
   ]
  },
  {
   "cell_type": "code",
   "execution_count": 3,
   "id": "ec36b156",
   "metadata": {},
   "outputs": [],
   "source": [
    "from typing import List, Annotated\n",
    "from typing_extensions import TypedDict\n",
    "from pydantic import BaseModel, Field\n",
    "from operator import add\n",
    "\n",
    "class Analyst(BaseModel):\n",
    "    affiliation: str = Field(\n",
    "        description=\"Primary affiliation of the analyst.\",\n",
    "    )\n",
    "    name: str = Field(\n",
    "        description=\"Name of the analyst.\"\n",
    "    )\n",
    "    role: str = Field(\n",
    "        description=\"Role of the analyst in the context of the topic.\",\n",
    "    )\n",
    "    description: str = Field(\n",
    "        description=\"Description of the analyst focus, concerns, and motives.\",\n",
    "    )\n",
    "    @property\n",
    "    def persona(self) -> str:\n",
    "        return f\"Name: {self.name}\\nRole: {self.role}\\nAffiliation: {self.affiliation}\\nDescription: {self.description}\\n\"\n",
    "\n",
    "class Perspectives(BaseModel):\n",
    "    analysts: List[Analyst] = Field(\n",
    "        description=\"Comprehensive list of analysts with their roles and affiliations.\",\n",
    "    )\n",
    "\n",
    "class GenerateAnalystsState(TypedDict):\n",
    "    topic: str # Research topic\n",
    "    max_analysts: int # Number of analysts\n",
    "    human_analyst_feedback: str # Human feedback\n",
    "    # human_analyst_feedback: Annotated[List[str], add]  # Human feedback\n",
    "    analysts: List[Analyst] # Analyst asking questions\n",
    "    # analysts: Annotated[List[Analyst], add] \n",
    "    # final_analysts: List[Analyst] #= Field(..., min_items=3, max_items=3, description=\"Exactly 3 related sub-topics\")# Analyst asking questions"
   ]
  },
  {
   "cell_type": "code",
   "execution_count": 4,
   "id": "bb619fae",
   "metadata": {},
   "outputs": [
    {
     "data": {
      "image/png": "[encoded data removed]",
      "text/plain": [
       "<IPython.core.display.Image object>"
      ]
     },
     "metadata": {},
     "output_type": "display_data"
    }
   ],
   "source": [
    "from IPython.display import Image, display\n",
    "from langgraph.graph import START, END, StateGraph\n",
    "from langgraph.checkpoint.memory import MemorySaver\n",
    "from langchain_core.messages import AIMessage, HumanMessage, SystemMessage\n",
    "\n",
    "analyst_instructions=\"\"\"You are tasked with creating a set of AI analyst personas. Follow these instructions carefully:\n",
    "\n",
    "1. First, review the research topic:\n",
    "{topic}\n",
    "        \n",
    "2. Examine any editorial feedback that has been optionally provided to guide creation of the analysts: \n",
    "        \n",
    "{human_analyst_feedback}\n",
    "    \n",
    "3. Determine the most interesting themes based upon documents and / or feedback above.\n",
    "                    \n",
    "4. Pick the top {max_analysts} themes.\n",
    "\n",
    "5. Assign one analyst to each theme.\"\"\"\n",
    "\n",
    "selector_instructions=\"\"\"You are tasked with selecting {max_analysts} AI analyst personas. Follow these instructions carefully:\n",
    "\n",
    "1. First, review the research topic:\n",
    "{topic}\n",
    "        \n",
    "2. Examine any editorial feedback that has been optionally provided to guide creation of the analysts: \n",
    "        \n",
    "{human_analyst_feedback}\n",
    "    \n",
    "3. Here are the candidates:\n",
    "{candidates}\n",
    "                    \n",
    "4. Pick {max_analysts} analysts suitable for researching about {topic}. Make sure to select no more and no less than {max_analysts} analysts.\n",
    "\"\"\"\n",
    "\n",
    "def create_analysts(state: GenerateAnalystsState):\n",
    "    \n",
    "    \"\"\" Create analysts \"\"\"\n",
    "    \n",
    "    topic=state['topic']\n",
    "    max_analysts=state['max_analysts']\n",
    "    # human_analyst_feedback=state.get('human_analyst_feedback', '')\n",
    "    # import pdb; pdb.set_trace()\n",
    "    human_analyst_feedback=state.get('human_analyst_feedback', [])\n",
    "    if human_analyst_feedback:\n",
    "        human_analyst_feedback = human_analyst_feedback\n",
    "    else:\n",
    "        human_analyst_feedback = \"\"\n",
    "                \n",
    "    # Enforce structured output\n",
    "    # structured_llm = llm.with_structured_output(Perspectives)\n",
    "    structured_llm = llm_creative.with_structured_output(Perspectives)\n",
    "\n",
    "    # System message\n",
    "    system_message = analyst_instructions.format(topic=topic,\n",
    "                                                            human_analyst_feedback=human_analyst_feedback, \n",
    "                                                            max_analysts=max_analysts)\n",
    "\n",
    "    # Generate question \n",
    "    analysts = structured_llm.invoke([SystemMessage(content=system_message)]+[HumanMessage(content=\"Generate the set of analysts.\")])\n",
    "    \n",
    "    # Write the list of analysis to state\n",
    "    return {\"analysts\": analysts.analysts}\n",
    "\n",
    "def select_analysts(state: GenerateAnalystsState):\n",
    "    \n",
    "    \"\"\" Select analysts \"\"\"\n",
    "    \n",
    "    topic=state['topic']\n",
    "    max_analysts=state['max_analysts']\n",
    "    human_analyst_feedback=state.get('human_analyst_feedback', [])\n",
    "    human_analyst_feedback = \"\\n\".join(feedback for feedback in human_analyst_feedback if feedback)\n",
    "    candidates = state.get('analysts', [])\n",
    "    candidates = \"\\n\\n\".join(analyst.persona for analyst in candidates)\n",
    "                \n",
    "    # Enforce structured output\n",
    "    structured_llm = llm.with_structured_output(Perspectives)\n",
    "\n",
    "    # System message\n",
    "    system_message = selector_instructions.format(topic=topic,\n",
    "                                                            human_analyst_feedback=human_analyst_feedback, \n",
    "                                                            max_analysts=max_analysts,\n",
    "                                                            candidates=candidates)\n",
    "\n",
    "    # Generate question \n",
    "    analysts = structured_llm.invoke([SystemMessage(content=system_message)]+[HumanMessage(content=f\"Pick the {max_analysts} analysts.\")])\n",
    "    \n",
    "    # Write the list of analysis to state\n",
    "    return {\"final_analysts\": analysts.analysts}\n",
    "\n",
    "def human_feedback(state: GenerateAnalystsState):\n",
    "    \"\"\" No-op node that should be interrupted on \"\"\"\n",
    "    pass\n",
    "\n",
    "def should_continue(state: GenerateAnalystsState):\n",
    "    \"\"\" Return the next node to execute \"\"\"\n",
    "\n",
    "    # Check if human feedback\n",
    "    # human_analyst_feedback=state.get('human_analyst_feedback', [None])\n",
    "    # if len(human_analyst_feedback) > 0:\n",
    "    #     human_analyst_feedback = human_analyst_feedback[-1]\n",
    "    # if human_analyst_feedback:\n",
    "    #     return \"create_analysts\"\n",
    "    # return \"select_analysts\"\n",
    "\n",
    "    human_analyst_feedback=state.get('human_analyst_feedback', None)\n",
    "    if human_analyst_feedback:\n",
    "        return \"create_analysts\"\n",
    "    \n",
    "    # Otherwise end\n",
    "    \n",
    "\n",
    "# Add nodes and edges \n",
    "builder = StateGraph(GenerateAnalystsState)\n",
    "builder.add_node(\"create_analysts\", create_analysts)\n",
    "builder.add_node(\"human_feedback\", human_feedback)\n",
    "builder.add_node(\"select_analysts\", select_analysts)\n",
    "builder.add_edge(START, \"create_analysts\")\n",
    "builder.add_edge(\"create_analysts\", \"human_feedback\")\n",
    "builder.add_conditional_edges(\"human_feedback\", should_continue, [\"create_analysts\", \"select_analysts\"])\n",
    "builder.add_edge(\"select_analysts\", END)\n",
    "\n",
    "# Compile\n",
    "memory = MemorySaver()\n",
    "graph = builder.compile(interrupt_before=['human_feedback'], checkpointer=memory)\n",
    "\n",
    "# View\n",
    "display(Image(graph.get_graph(xray=1).draw_mermaid_png()))"
   ]
  },
  {
   "cell_type": "code",
   "execution_count": 5,
   "id": "f9f3aaa3",
   "metadata": {},
   "outputs": [
    {
     "name": "stdout",
     "output_type": "stream",
     "text": [
      "Name: Dr. Ada Sterling\n",
      "Affiliation: Institute for Ethical AI\n",
      "Role: AI Ethics Specialist\n",
      "Description: Dr. Sterling focuses on the ethical implications of adopting LangGraph as an agent framework. She is concerned with ensuring that the technology is used responsibly and does not perpetuate biases or invade privacy. Her goal is to provide guidelines for ethical AI development and implementation.\n",
      "--------------------------------------------------\n",
      "Name: Prof. Leo Kim\n",
      "Affiliation: Tech Innovations Lab\n",
      "Role: AI Research Scientist\n",
      "Description: Prof. Kim is interested in the technical benefits and challenges of LangGraph. He aims to evaluate the framework's performance, scalability, and integration capabilities. His research will provide insights into how LangGraph can enhance AI agent capabilities and drive innovation in the field.\n",
      "--------------------------------------------------\n",
      "Name: Ms. Clara Hart\n",
      "Affiliation: Future Tech Insights\n",
      "Role: AI Industry Analyst\n",
      "Description: Ms. Hart analyzes the market potential and business impact of adopting LangGraph. She assesses how the framework can provide a competitive advantage, improve operational efficiency, and create new opportunities for businesses. Her reports will help companies make informed decisions about investing in LangGraph.\n",
      "--------------------------------------------------\n"
     ]
    }
   ],
   "source": [
    "# Input\n",
    "max_analysts = 3 \n",
    "topic = \"The benefits of adopting LangGraph as an agent framework\"\n",
    "thread = {\"configurable\": {\"thread_id\": \"1\"}}\n",
    "\n",
    "# Run the graph until the first interruption\n",
    "for event in graph.stream({\"topic\":topic,\"max_analysts\":max_analysts,}, thread, stream_mode=\"values\"):\n",
    "    # Review\n",
    "    analysts = event.get('analysts', '')\n",
    "    if analysts:\n",
    "        for analyst in analysts:\n",
    "            print(f\"Name: {analyst.name}\")\n",
    "            print(f\"Affiliation: {analyst.affiliation}\")\n",
    "            print(f\"Role: {analyst.role}\")\n",
    "            print(f\"Description: {analyst.description}\")\n",
    "            print(\"-\" * 50)  \n",
    "\n",
    "# graph.invoke({\"topic\":topic,\"max_analysts\":max_analysts,}, thread)"
   ]
  },
  {
   "cell_type": "code",
   "execution_count": 6,
   "id": "0f17e3ab",
   "metadata": {},
   "outputs": [
    {
     "data": {
      "text/plain": [
       "('human_feedback',)"
      ]
     },
     "execution_count": 6,
     "metadata": {},
     "output_type": "execute_result"
    }
   ],
   "source": [
    "# Get state and look at next node\n",
    "state = graph.get_state(thread)\n",
    "state.next"
   ]
  },
  {
   "cell_type": "code",
   "execution_count": 7,
   "id": "d089d020",
   "metadata": {},
   "outputs": [
    {
     "data": {
      "text/plain": [
       "{'configurable': {'thread_id': '1',\n",
       "  'checkpoint_ns': '',\n",
       "  'checkpoint_id': '1f040e17-ab88-6dde-8002-85717eff73f6'}}"
      ]
     },
     "execution_count": 7,
     "metadata": {},
     "output_type": "execute_result"
    }
   ],
   "source": [
    "# We now update the state as if we are the human_feedback node\n",
    "graph.update_state(thread, {\"human_analyst_feedback\": \n",
    "                            [\"Add in someone from a startup to add an entrepreneur perspective\"]}, as_node=\"human_feedback\")"
   ]
  },
  {
   "cell_type": "code",
   "execution_count": 8,
   "id": "9037a61d",
   "metadata": {},
   "outputs": [
    {
     "name": "stdout",
     "output_type": "stream",
     "text": [
      "Name: Dr. Ada Sterling\n",
      "Affiliation: Institute for Ethical AI\n",
      "Role: AI Ethics Specialist\n",
      "Description: Dr. Sterling focuses on the ethical implications of adopting LangGraph as an agent framework. She is concerned with ensuring that the technology is used responsibly and does not perpetuate biases or invade privacy. Her goal is to provide guidelines for ethical AI development and implementation.\n",
      "--------------------------------------------------\n",
      "Name: Prof. Leo Kim\n",
      "Affiliation: Tech Innovations Lab\n",
      "Role: AI Research Scientist\n",
      "Description: Prof. Kim is interested in the technical benefits and challenges of LangGraph. He aims to evaluate the framework's performance, scalability, and integration capabilities. His research will provide insights into how LangGraph can enhance AI agent capabilities and drive innovation in the field.\n",
      "--------------------------------------------------\n",
      "Name: Ms. Clara Hart\n",
      "Affiliation: Future Tech Insights\n",
      "Role: AI Industry Analyst\n",
      "Description: Ms. Hart analyzes the market potential and business impact of adopting LangGraph. She assesses how the framework can provide a competitive advantage, improve operational efficiency, and create new opportunities for businesses. Her reports will help companies make informed decisions about investing in LangGraph.\n",
      "--------------------------------------------------\n",
      "Name: Dr. Ada Sterling\n",
      "Affiliation: Tech University\n",
      "Role: AI Research Scientist\n",
      "Description: Focuses on the theoretical benefits and technical advantages of LangGraph as an agent framework. Interested in how LangGraph can enhance AI capabilities and improve computational efficiency.\n",
      "--------------------------------------------------\n",
      "Name: Victor Kane\n",
      "Affiliation: Innovatech Solutions\n",
      "Role: Entrepreneur and AI Startup Founder\n",
      "Description: Explores the practical applications and business potential of adopting LangGraph. Interested in how LangGraph can drive innovation and provide a competitive edge in the startup ecosystem.\n",
      "--------------------------------------------------\n",
      "Name: Prof. Leo Hart\n",
      "Affiliation: Global AI Ethics Council\n",
      "Role: Ethics and AI Policy Specialist\n",
      "Description: Investigates the ethical implications and policy considerations of using LangGraph. Interested in ensuring that the adoption of LangGraph aligns with ethical standards and regulatory frameworks.\n",
      "--------------------------------------------------\n"
     ]
    }
   ],
   "source": [
    "# Continue the graph execution\n",
    "for event in graph.stream(None, thread, stream_mode=\"values\"):\n",
    "    # Review\n",
    "    analysts = event.get('analysts', '')\n",
    "    if analysts:\n",
    "        for analyst in analysts:\n",
    "            print(f\"Name: {analyst.name}\")\n",
    "            print(f\"Affiliation: {analyst.affiliation}\")\n",
    "            print(f\"Role: {analyst.role}\")\n",
    "            print(f\"Description: {analyst.description}\")\n",
    "            print(\"-\" * 50) "
   ]
  },
  {
   "cell_type": "code",
   "execution_count": 8,
   "id": "f4410659",
   "metadata": {},
   "outputs": [
    {
     "data": {
      "text/plain": [
       "{'configurable': {'thread_id': '1',\n",
       "  'checkpoint_ns': '',\n",
       "  'checkpoint_id': '1f03f578-8666-6be3-8004-84c3b6e05068'}}"
      ]
     },
     "execution_count": 8,
     "metadata": {},
     "output_type": "execute_result"
    }
   ],
   "source": [
    "graph.update_state(thread, {\"human_analyst_feedback\": \n",
    "                            [\"It would be great to have some perspective from the open source community\"]}, as_node=\"human_feedback\")"
   ]
  },
  {
   "cell_type": "code",
   "execution_count": 9,
   "id": "06ea53a8",
   "metadata": {},
   "outputs": [
    {
     "name": "stdout",
     "output_type": "stream",
     "text": [
      "Name: Alexandra 'Alex' Thompson\n",
      "Affiliation: Open Source Initiative (OSI)\n",
      "Role: Open Source Advocate\n",
      "Description: Alex is deeply involved in the open-source community and is passionate about the adoption of open-source technologies in various industries. She is particularly interested in how LangGraph can benefit open-source projects by providing a robust framework for agent development. Alex is concerned about the sustainability and community support for LangGraph and wants to ensure that it remains accessible and inclusive.\n",
      "--------------------------------------------------\n",
      "Name: Dr. Jamie Lee\n",
      "Affiliation: Stanford University\n",
      "Role: AI Researcher\n",
      "Description: Jamie is a leading researcher in the field of artificial intelligence and natural language processing. She is intrigued by the potential of LangGraph to revolutionize AI agent frameworks. Jamie's focus is on the technical capabilities and innovations that LangGraph brings to the table, as well as its potential to advance AI research and development. She is motivated by the prospect of pushing the boundaries of what AI can achieve.\n",
      "--------------------------------------------------\n",
      "Name: Carlos Rodriguez\n",
      "Affiliation: TechCorp Solutions\n",
      "Role: Enterprise Solutions Architect\n",
      "Description: Carlos works for a major tech company and is responsible for evaluating and implementing new technologies that can enhance their enterprise solutions. He is interested in how LangGraph can be integrated into existing systems to improve efficiency and effectiveness. Carlos is concerned with the practical applications and scalability of LangGraph, as well as its potential to provide a competitive edge in the market. He is driven by the need to deliver cutting-edge solutions to his clients.\n",
      "--------------------------------------------------\n"
     ]
    }
   ],
   "source": [
    "# Continue the graph execution\n",
    "for event in graph.stream(None, thread, stream_mode=\"updates\"):\n",
    "    # Review\n",
    "    create_analysts = event.get('create_analysts', '')\n",
    "    if create_analysts:\n",
    "        analysts = create_analysts.get('analysts', [])\n",
    "        for analyst in analysts:\n",
    "            print(f\"Name: {analyst.name}\")\n",
    "            print(f\"Affiliation: {analyst.affiliation}\")\n",
    "            print(f\"Role: {analyst.role}\")\n",
    "            print(f\"Description: {analyst.description}\")\n",
    "            print(\"-\" * 50)\n",
    "    "
   ]
  },
  {
   "cell_type": "code",
   "execution_count": 9,
   "id": "b0ab1380",
   "metadata": {},
   "outputs": [
    {
     "data": {
      "text/plain": [
       "{'configurable': {'thread_id': '1',\n",
       "  'checkpoint_ns': '',\n",
       "  'checkpoint_id': '1f040e19-0e8f-6f7a-8004-a2d2a21e16a1'}}"
      ]
     },
     "execution_count": 9,
     "metadata": {},
     "output_type": "execute_result"
    }
   ],
   "source": [
    "# If we are satisfied, then we simply supply no feedback\n",
    "further_feedack = None\n",
    "graph.update_state(thread, {\"human_analyst_feedback\": \n",
    "                            [further_feedack]}, as_node=\"human_feedback\")"
   ]
  },
  {
   "cell_type": "code",
   "execution_count": 10,
   "id": "a200b193",
   "metadata": {},
   "outputs": [
    {
     "name": "stdout",
     "output_type": "stream",
     "text": [
      "--Node--\n",
      "create_analysts\n",
      "--Node--\n",
      "__interrupt__\n"
     ]
    }
   ],
   "source": [
    "# Continue the graph execution to end\n",
    "for event in graph.stream(None, thread, stream_mode=\"updates\"):\n",
    "    print(\"--Node--\")\n",
    "    node_name = next(iter(event.keys()))\n",
    "    print(node_name)"
   ]
  },
  {
   "cell_type": "code",
   "execution_count": 11,
   "id": "d3566572",
   "metadata": {},
   "outputs": [],
   "source": [
    "final_state = graph.get_state(thread)\n",
    "analysts = final_state.values.get('analysts')\n",
    "final_analysts = final_state.values.get('final_analysts')"
   ]
  },
  {
   "cell_type": "code",
   "execution_count": 13,
   "id": "a610c780",
   "metadata": {},
   "outputs": [
    {
     "name": "stdout",
     "output_type": "stream",
     "text": [
      "Name: Dr. Ada Sterling\n",
      "Affiliation: Global Ethics Institute\n",
      "Role: AI Ethics Specialist\n",
      "Description: Dr. Sterling focuses on the ethical implications of adopting LangGraph as an agent framework. She is concerned about data privacy, bias, and the potential misuse of the technology. Her goal is to ensure that the adoption of LangGraph aligns with ethical standards and benefits society as a whole.\n",
      "--------------------------------------------------\n",
      "Name: Alex Taylor\n",
      "Affiliation: Tech Innovators Inc.\n",
      "Role: AI Integration Specialist\n",
      "Description: Alex Taylor specializes in the integration of new AI technologies into existing systems. He is interested in the practical benefits of adopting LangGraph, such as improved efficiency, scalability, and the ability to handle complex data structures. Alex aims to provide insights into how LangGraph can be seamlessly integrated into various industries.\n",
      "--------------------------------------------------\n",
      "Name: Jamie Lee\n",
      "Affiliation: Advanced AI Research Lab\n",
      "Role: AI Research Scientist\n",
      "Description: Jamie Lee is focused on the technical aspects of LangGraph, including its architecture, algorithms, and performance. She is interested in how LangGraph can enhance AI capabilities, such as natural language processing and knowledge graph construction. Jamie's goal is to push the boundaries of what is possible with AI technology.\n",
      "--------------------------------------------------\n",
      "Name: Dr. Ada Sterling\n",
      "Affiliation: Global Ethics Institute\n",
      "Role: AI Ethics Specialist\n",
      "Description: Dr. Sterling focuses on the ethical implications of AI frameworks, ensuring that LangGraph promotes fairness, transparency, and accountability. She is concerned about potential biases and works to establish guidelines for ethical AI development.\n",
      "--------------------------------------------------\n",
      "Name: Alex Taylor\n",
      "Affiliation: Innovatech Labs\n",
      "Role: AI Startup Founder\n",
      "Description: Alex Taylor is passionate about leveraging LangGraph to drive innovation in startups. He is interested in how LangGraph can provide a competitive edge, streamline operations, and foster creativity within small, agile teams. He is also keen on the scalability and cost-effectiveness of the framework.\n",
      "--------------------------------------------------\n",
      "Name: Dr. Jamie Lee\n",
      "Affiliation: Tech University\n",
      "Role: AI Research Scientist\n",
      "Description: Dr. Lee is deeply involved in the technical aspects of LangGraph, exploring its capabilities in natural language processing and knowledge graph integration. She is motivated by the potential for LangGraph to revolutionize AI applications in various industries, from healthcare to finance.\n",
      "--------------------------------------------------\n",
      "Name: Alexandra 'Alex' Thompson\n",
      "Affiliation: Open Source Initiative (OSI)\n",
      "Role: Open Source Advocate\n",
      "Description: Alex is deeply involved in the open-source community and is passionate about the adoption of open-source technologies in various industries. She is particularly interested in how LangGraph can benefit open-source projects by providing a robust framework for agent development. Alex is concerned about the sustainability and community support for LangGraph and wants to ensure that it remains accessible and inclusive.\n",
      "--------------------------------------------------\n",
      "Name: Dr. Jamie Lee\n",
      "Affiliation: Stanford University\n",
      "Role: AI Researcher\n",
      "Description: Jamie is a leading researcher in the field of artificial intelligence and natural language processing. She is intrigued by the potential of LangGraph to revolutionize AI agent frameworks. Jamie's focus is on the technical capabilities and innovations that LangGraph brings to the table, as well as its potential to advance AI research and development. She is motivated by the prospect of pushing the boundaries of what AI can achieve.\n",
      "--------------------------------------------------\n",
      "Name: Carlos Rodriguez\n",
      "Affiliation: TechCorp Solutions\n",
      "Role: Enterprise Solutions Architect\n",
      "Description: Carlos works for a major tech company and is responsible for evaluating and implementing new technologies that can enhance their enterprise solutions. He is interested in how LangGraph can be integrated into existing systems to improve efficiency and effectiveness. Carlos is concerned with the practical applications and scalability of LangGraph, as well as its potential to provide a competitive edge in the market. He is driven by the need to deliver cutting-edge solutions to his clients.\n",
      "--------------------------------------------------\n"
     ]
    }
   ],
   "source": [
    "for analyst in analysts:\n",
    "    print(f\"Name: {analyst.name}\")\n",
    "    print(f\"Affiliation: {analyst.affiliation}\")\n",
    "    print(f\"Role: {analyst.role}\")\n",
    "    print(f\"Description: {analyst.description}\")\n",
    "    print(\"-\" * 50) "
   ]
  },
  {
   "cell_type": "code",
   "execution_count": 14,
   "id": "529a3fcf",
   "metadata": {},
   "outputs": [
    {
     "name": "stdout",
     "output_type": "stream",
     "text": [
      "Final Analysts:\n",
      "Name: Alex Taylor\n",
      "Affiliation: Innovatech Labs\n",
      "Role: AI Startup Founder\n",
      "Description: Alex Taylor is passionate about leveraging LangGraph to drive innovation in startups. He is interested in how LangGraph can provide a competitive edge, streamline operations, and foster creativity within small, agile teams. He is also keen on the scalability and cost-effectiveness of the framework.\n",
      "--------------------------------------------------\n",
      "Name: Alexandra 'Alex' Thompson\n",
      "Affiliation: Open Source Initiative (OSI)\n",
      "Role: Open Source Advocate\n",
      "Description: Alex is deeply involved in the open-source community and is passionate about the adoption of open-source technologies in various industries. She is particularly interested in how LangGraph can benefit open-source projects by providing a robust framework for agent development. Alex is concerned about the sustainability and community support for LangGraph and wants to ensure that it remains accessible and inclusive.\n",
      "--------------------------------------------------\n",
      "Name: Dr. Jamie Lee\n",
      "Affiliation: Tech University\n",
      "Role: AI Research Scientist\n",
      "Description: Dr. Lee is deeply involved in the technical aspects of LangGraph, exploring its capabilities in natural language processing and knowledge graph integration. She is motivated by the potential for LangGraph to revolutionize AI applications in various industries, from healthcare to finance.\n",
      "--------------------------------------------------\n"
     ]
    }
   ],
   "source": [
    "print(\"Final Analysts:\")\n",
    "for analyst in final_analysts:\n",
    "    print(f\"Name: {analyst.name}\")\n",
    "    print(f\"Affiliation: {analyst.affiliation}\")\n",
    "    print(f\"Role: {analyst.role}\")\n",
    "    print(f\"Description: {analyst.description}\")\n",
    "    print(\"-\" * 50)"
   ]
  },
  {
   "cell_type": "markdown",
   "id": "a6b4ea38",
   "metadata": {},
   "source": [
    "## Conduct Interview\n",
    "\n",
    "### Generate Question\n",
    "\n",
    "The analyst will ask questions to the expert."
   ]
  },
  {
   "cell_type": "code",
   "execution_count": 12,
   "id": "ff9eed42",
   "metadata": {},
   "outputs": [],
   "source": [
    "import operator\n",
    "from typing import  Annotated\n",
    "from langgraph.graph import MessagesState\n",
    "\n",
    "class InterviewState(MessagesState):\n",
    "    max_num_turns: int # Number turns of conversation\n",
    "    context: Annotated[list, operator.add] # Source docs\n",
    "    analyst: Analyst # Analyst asking questions\n",
    "    interview: str # Interview transcript\n",
    "    sections: list # Final key we duplicate in outer state for Send() API\n",
    "\n",
    "class SearchQuery(BaseModel):\n",
    "    search_query: str = Field(None, description=\"Search query for retrieval.\")"
   ]
  },
  {
   "cell_type": "code",
   "execution_count": 18,
   "id": "4cefb2b3",
   "metadata": {},
   "outputs": [],
   "source": [
    "question_instructions = \"\"\"You are an analyst tasked with interviewing an expert to learn about a specific topic. \n",
    "\n",
    "Your goal is boil down to interesting and specific insights related to your topic.\n",
    "\n",
    "1. Interesting: Insights that people will find surprising or non-obvious.\n",
    "        \n",
    "2. Specific: Insights that avoid generalities and include specific examples from the expert.\n",
    "\n",
    "Here is your bio, topic of focus, and set of goals: {goals}\n",
    "        \n",
    "Begin by introducing yourself using a name that fits your persona, and then ask your question.\n",
    "\n",
    "Continue to ask questions to drill down and refine your understanding of the topic.\n",
    "        \n",
    "When you are satisfied with your understanding, complete the interview with: \"Thank you so much for your help!\"\n",
    "\n",
    "Remember to stay in character throughout your response, reflecting the persona and goals provided to you.\"\"\"\n",
    "\n",
    "def generate_question(state: InterviewState):\n",
    "    \"\"\" Node to generate a question \"\"\"\n",
    "\n",
    "    # Get state\n",
    "    analyst = state[\"analyst\"]\n",
    "    messages = state[\"messages\"]\n",
    "\n",
    "    if isinstance(messages[-1], AIMessage):\n",
    "        # If the last message is from the AI, we need to add a human message\n",
    "        messages.append(HumanMessage(content=\"Considering your expertise and prior responses, formulate an insightful follow-up question that delves deeper into the topic.\"))\n",
    "\n",
    "    # Generate question \n",
    "    system_message = question_instructions.format(goals=analyst.persona)\n",
    "    question = llm_versatile.invoke([SystemMessage(content=system_message)]+messages)\n",
    "        \n",
    "    # Write messages to state\n",
    "    return {\"messages\": [question]}"
   ]
  },
  {
   "cell_type": "code",
   "execution_count": 19,
   "id": "9369755e",
   "metadata": {},
   "outputs": [
    {
     "data": {
      "image/png": "[encoded data removed]",
      "text/plain": [
       "<IPython.core.display.Image object>"
      ]
     },
     "metadata": {},
     "output_type": "display_data"
    }
   ],
   "source": [
    "# Add nodes and edges \n",
    "builder = StateGraph(InterviewState)\n",
    "builder.add_node(\"generate_question\", generate_question)\n",
    "\n",
    "builder.add_edge(START, \"generate_question\")\n",
    "builder.add_edge(\"generate_question\", END)\n",
    "\n",
    "# Compile\n",
    "graph = builder.compile()\n",
    "\n",
    "# View\n",
    "display(Image(graph.get_graph(xray=1).draw_mermaid_png()))"
   ]
  },
  {
   "cell_type": "code",
   "execution_count": 20,
   "id": "04edf624",
   "metadata": {},
   "outputs": [
    {
     "name": "stdout",
     "output_type": "stream",
     "text": [
      "{'generate_question': {'messages': [AIMessage(content=\"Hello Dr. Sterling, I'm Alex, a research analyst at the Institute. Given your expertise in AI ethics and governance, I'm particularly interested in understanding the ethical implications of adopting new AI frameworks. My question is: **While LangGraph offers benefits as an agent framework, what specific, unforeseen ethical challenges might arise from its adoption, and how can developers proactively address these challenges during the design and deployment phases?**\", additional_kwargs={}, response_metadata={'prompt_feedback': {'block_reason': 0, 'safety_ratings': []}, 'finish_reason': 'STOP', 'safety_ratings': []}, id='run--2e4bcccd-2fcc-45f5-86c1-a214c28ee369-0', usage_metadata={'input_tokens': 265, 'output_tokens': 86, 'total_tokens': 351, 'input_token_details': {'cache_read': 0}})]}}\n"
     ]
    }
   ],
   "source": [
    "thread = {\"configurable\": {\"thread_id\": \"11\"}}\n",
    "# messages = [HumanMessage(f\"So you said you were writing an article on {topic}?\")]\n",
    "messages = [HumanMessage(f\"Based on your background, formulate an insightful question about the given topic: {topic}.\")]\n",
    "for event in graph.stream({\"messages\":messages, \"analyst\":analysts[0]}, thread, stream_mode=\"updates\"):\n",
    "    # Review\n",
    "    print(event)  "
   ]
  },
  {
   "cell_type": "markdown",
   "id": "4ecb8eaa",
   "metadata": {},
   "source": [
    "### Generate Answer: Parallelization"
   ]
  },
  {
   "cell_type": "code",
   "execution_count": 21,
   "id": "d0474045",
   "metadata": {},
   "outputs": [],
   "source": [
    "# Web search tool\n",
    "from langchain_community.tools.tavily_search import TavilySearchResults\n",
    "tavily_search = TavilySearchResults(max_results=3)\n",
    "\n",
    "# Wikipedia search tool\n",
    "from langchain_community.document_loaders import WikipediaLoader"
   ]
  },
  {
   "cell_type": "code",
   "execution_count": 22,
   "id": "2fcf6374",
   "metadata": {},
   "outputs": [],
   "source": [
    "import time\n",
    "# Search query writing\n",
    "search_instructions = SystemMessage(content=f\"\"\"You will be given a conversation between an analyst and an expert. \n",
    "\n",
    "Your goal is to generate a well-structured query for use in retrieval and / or web-search related to the conversation.\n",
    "        \n",
    "First, analyze the full conversation.\n",
    "\n",
    "Pay particular attention to the final question posed by the analyst.\n",
    "\n",
    "Convert this final question into a well-structured web search query\"\"\")\n",
    "\n",
    "def search_web(state: InterviewState):\n",
    "    \n",
    "    \"\"\" Retrieve docs from web search \"\"\"\n",
    "    time.sleep(5)\n",
    "    # Search query\n",
    "    messages = state[\"messages\"]\n",
    "    structured_llm = llm_creative.with_structured_output(SearchQuery)\n",
    "    # search_query = structured_llm.invoke([search_instructions]+state['messages'])\n",
    "    human_message = HumanMessage(content=messages[-1].content)\n",
    "    search_query = structured_llm.invoke([search_instructions] + [human_message])\n",
    "    \n",
    "    # Search\n",
    "    search_docs = tavily_search.invoke(search_query.search_query)\n",
    "\n",
    "     # Format\n",
    "    formatted_search_docs = \"\\n\\n---\\n\\n\".join(\n",
    "        [\n",
    "            f'<Document href=\"{doc[\"url\"]}\"/>\\n{doc[\"content\"]}\\n</Document>'\n",
    "            for doc in search_docs\n",
    "        ]\n",
    "    )\n",
    "\n",
    "    return {\"context\": [formatted_search_docs]} \n",
    "\n",
    "def search_wikipedia(state: InterviewState):\n",
    "    \n",
    "    \"\"\" Retrieve docs from wikipedia \"\"\"\n",
    "\n",
    "    time.sleep(10)  # Simulate a delay for the search operation\n",
    "    # Search query\n",
    "    messages = state[\"messages\"]\n",
    "    structured_llm = llm.with_structured_output(SearchQuery)\n",
    "    # search_query = structured_llm.invoke([search_instructions]+state['messages'])\n",
    "    human_message = HumanMessage(content=messages[-1].content)\n",
    "    search_query = structured_llm.invoke([search_instructions] + [human_message])\n",
    "    \n",
    "    # Search\n",
    "    search_docs = WikipediaLoader(query=search_query.search_query, \n",
    "                                  load_max_docs=2).load()\n",
    "\n",
    "     # Format\n",
    "    formatted_search_docs = \"\\n\\n---\\n\\n\".join(\n",
    "        [\n",
    "            f'<Document source=\"{doc.metadata[\"source\"]}\" page=\"{doc.metadata.get(\"page\", \"\")}\"/>\\n{doc.page_content}\\n</Document>'\n",
    "            for doc in search_docs\n",
    "        ]\n",
    "    )\n",
    "\n",
    "    return {\"context\": [formatted_search_docs]} \n",
    "\n",
    "answer_instructions = \"\"\"You are an expert being interviewed by an analyst.\n",
    "\n",
    "Here is analyst area of focus: {goals}. \n",
    "        \n",
    "You goal is to answer a question posed by the interviewer.\n",
    "\n",
    "To answer question, use this context:\n",
    "        \n",
    "{context}\n",
    "\n",
    "When answering questions, follow these guidelines:\n",
    "        \n",
    "1. Use only the information provided in the context. \n",
    "        \n",
    "2. Do not introduce external information or make assumptions beyond what is explicitly stated in the context.\n",
    "\n",
    "3. The context contain sources at the topic of each individual document.\n",
    "\n",
    "4. Include these sources your answer next to any relevant statements. For example, for source # 1 use [1]. \n",
    "\n",
    "5. List your sources in order at the bottom of your answer. [1] Source 1, [2] Source 2, etc\n",
    "        \n",
    "6. If the source is: <Document source=\"assistant/docs/llama3_1.pdf\" page=\"7\"/>' then just list: \n",
    "        \n",
    "[1] assistant/docs/llama3_1.pdf, page 7 \n",
    "        \n",
    "And skip the addition of the brackets as well as the Document source preamble in your citation.\"\"\"\n",
    "\n",
    "def generate_answer(state: InterviewState):\n",
    "    \n",
    "    \"\"\" Node to answer a question \"\"\"\n",
    "\n",
    "    # Get state\n",
    "    analyst = state[\"analyst\"]\n",
    "    messages = state[\"messages\"]\n",
    "    context = state[\"context\"]\n",
    "\n",
    "    # Answer question\n",
    "    system_message = answer_instructions.format(goals=analyst.persona, context=context)\n",
    "    human_message = HumanMessage(content=messages[-1].content)\n",
    "    answer = llm.invoke([SystemMessage(content=system_message)] + [human_message])\n",
    "            \n",
    "    # Name the message as coming from the expert\n",
    "    answer.name = \"expert\"\n",
    "    \n",
    "    time.sleep(10)  # Simulate a delay for the answer generation\n",
    "    # Append it to state\n",
    "    return {\"messages\": [answer]}\n",
    "\n",
    "def route_messages(state: InterviewState, \n",
    "                   name: str = \"expert\"):\n",
    "\n",
    "    \"\"\" Route between question and answer \"\"\"\n",
    "    \n",
    "    # Get messages\n",
    "    messages = state[\"messages\"]\n",
    "    max_num_turns = state.get('max_num_turns',2)\n",
    "\n",
    "    # Check the number of expert answers \n",
    "    num_responses = len(\n",
    "        [m for m in messages if isinstance(m, AIMessage) and m.name == name]\n",
    "    )\n",
    "\n",
    "    # End if expert has answered more than the max turns\n",
    "    if num_responses >= max_num_turns:\n",
    "        return 'save_interview'\n",
    "\n",
    "    # This router is run after each question - answer pair \n",
    "    # Get the last question asked to check if it signals the end of discussion\n",
    "    last_question = messages[-2]\n",
    "    \n",
    "    if \"Thank you so much for your help\" in last_question.content:\n",
    "        return 'save_interview'\n",
    "    return \"ask_question\"\n",
    "\n"
   ]
  },
  {
   "cell_type": "code",
   "execution_count": 23,
   "id": "cc5b6376",
   "metadata": {},
   "outputs": [],
   "source": [
    "from langchain_core.messages import get_buffer_string\n",
    "\n",
    "def save_interview(state: InterviewState):\n",
    "    \n",
    "    \"\"\" Save interviews \"\"\"\n",
    "\n",
    "    # Get messages\n",
    "    messages = state[\"messages\"]\n",
    "    \n",
    "    # Convert interview to a string\n",
    "    interview = get_buffer_string(messages)\n",
    "    \n",
    "    # Save to interviews key\n",
    "    return {\"interview\": interview}"
   ]
  },
  {
   "cell_type": "code",
   "execution_count": 24,
   "id": "cdde4c0e",
   "metadata": {},
   "outputs": [],
   "source": [
    "section_writer_instructions = \"\"\"You are an expert technical writer. \n",
    "            \n",
    "Your task is to create a short, easily digestible section of a report based on a set of source documents.\n",
    "\n",
    "1. Analyze the content of the source documents: \n",
    "- The name of each source document is at the start of the document, with the <Document tag.\n",
    "        \n",
    "2. Create a report structure using markdown formatting:\n",
    "- Use ## for the section title\n",
    "- Use ### for sub-section headers\n",
    "        \n",
    "3. Write the report following this structure:\n",
    "a. Title (## header)\n",
    "b. Summary (### header)\n",
    "c. Sources (### header)\n",
    "\n",
    "4. Make your title engaging based upon the focus area of the analyst: \n",
    "{focus}\n",
    "\n",
    "5. For the summary section:\n",
    "- Set up summary with general background / context related to the focus area of the analyst\n",
    "- Emphasize what is novel, interesting, or surprising about insights gathered from the interview\n",
    "- Create a numbered list of source documents, as you use them\n",
    "- Do not mention the names of interviewers or experts\n",
    "- Aim for approximately 400 words maximum\n",
    "- Use numbered sources in your report (e.g., [1], [2]) based on information from source documents\n",
    "        \n",
    "6. In the Sources section:\n",
    "- Include all sources used in your report\n",
    "- Provide full links to relevant websites or specific document paths\n",
    "- Separate each source by a newline. Use two spaces at the end of each line to create a newline in Markdown.\n",
    "- It will look like:\n",
    "\n",
    "### Sources\n",
    "[1] Link or Document name\n",
    "[2] Link or Document name\n",
    "\n",
    "7. Be sure to combine sources. For example this is not correct:\n",
    "\n",
    "[3] https://ai.meta.com/blog/meta-llama-3-1/\n",
    "[4] https://ai.meta.com/blog/meta-llama-3-1/\n",
    "\n",
    "There should be no redundant sources. It should simply be:\n",
    "\n",
    "[3] https://ai.meta.com/blog/meta-llama-3-1/\n",
    "        \n",
    "8. Final review:\n",
    "- Ensure the report follows the required structure\n",
    "- Include no preamble before the title of the report\n",
    "- Check that all guidelines have been followed\"\"\"\n",
    "\n",
    "def write_section(state: InterviewState):\n",
    "\n",
    "    \"\"\" Node to answer a question \"\"\"\n",
    "\n",
    "    time.sleep(10)  # Simulate a delay for the answer generation\n",
    "    # Get state\n",
    "    interview = state[\"interview\"]\n",
    "    context = state[\"context\"]\n",
    "    analyst = state[\"analyst\"]\n",
    "   \n",
    "    # Write section using either the gathered source docs from interview (context) or the interview itself (interview)\n",
    "    system_message = section_writer_instructions.format(focus=analyst.description)\n",
    "    section = llm.invoke([SystemMessage(content=system_message)]+[HumanMessage(content=f\"Use this source to write your section: {context}\")]) \n",
    "                \n",
    "    # Append it to state\n",
    "    return {\"sections\": [section.content]}"
   ]
  },
  {
   "cell_type": "code",
   "execution_count": 25,
   "id": "ba3c7788",
   "metadata": {},
   "outputs": [
    {
     "data": {
      "image/png": "[encoded data removed]",
      "text/plain": [
       "<IPython.core.display.Image object>"
      ]
     },
     "metadata": {},
     "output_type": "display_data"
    }
   ],
   "source": [
    "# Add nodes and edges \n",
    "builder = StateGraph(InterviewState)\n",
    "builder.add_node(\"generate_question\", generate_question)\n",
    "builder.add_node(\"search_web\", search_web)\n",
    "builder.add_node(\"search_wikipedia\", search_wikipedia)\n",
    "builder.add_node(\"generate_answer\", generate_answer)\n",
    "builder.add_node(\"save_interview\", save_interview)\n",
    "builder.add_node(\"write_section\", write_section)\n",
    "\n",
    "builder.add_edge(START, \"generate_question\")\n",
    "builder.add_edge(\"generate_question\", \"search_web\")\n",
    "builder.add_edge(\"generate_question\", \"search_wikipedia\")\n",
    "builder.add_edge(\"search_web\", \"generate_answer\")\n",
    "builder.add_edge(\"search_wikipedia\", \"generate_answer\")\n",
    "builder.add_conditional_edges(\"generate_answer\", route_messages, ['generate_question', 'save_interview'])\n",
    "builder.add_edge(\"save_interview\", \"write_section\")\n",
    "builder.add_edge(\"write_section\", END)\n",
    "# builder.add_edge(\"generate_answer\", END)\n",
    "\n",
    "# Compile\n",
    "graph = builder.compile()\n",
    "\n",
    "# View\n",
    "display(Image(graph.get_graph(xray=1).draw_mermaid_png()))"
   ]
  },
  {
   "cell_type": "code",
   "execution_count": 26,
   "id": "2733f766",
   "metadata": {},
   "outputs": [
    {
     "ename": "TypeError",
     "evalue": "'NoneType' object is not subscriptable",
     "output_type": "error",
     "traceback": [
      "\u001b[1;31m---------------------------------------------------------------------------\u001b[0m",
      "\u001b[1;31mTypeError\u001b[0m                                 Traceback (most recent call last)",
      "Cell \u001b[1;32mIn[26], line 4\u001b[0m\n\u001b[0;32m      2\u001b[0m \u001b[38;5;66;03m# messages = [HumanMessage(f\"So you said you were writing an article on {topic}?\")]\u001b[39;00m\n\u001b[0;32m      3\u001b[0m messages \u001b[38;5;241m=\u001b[39m [HumanMessage(\u001b[38;5;124mf\u001b[39m\u001b[38;5;124m\"\u001b[39m\u001b[38;5;124mBased on your background, formulate an insightful question about the given topic: \u001b[39m\u001b[38;5;132;01m{\u001b[39;00mtopic\u001b[38;5;132;01m}\u001b[39;00m\u001b[38;5;124m.\u001b[39m\u001b[38;5;124m\"\u001b[39m)]\n\u001b[1;32m----> 4\u001b[0m \u001b[38;5;28;01mfor\u001b[39;00m event \u001b[38;5;129;01min\u001b[39;00m graph\u001b[38;5;241m.\u001b[39mstream({\u001b[38;5;124m\"\u001b[39m\u001b[38;5;124mmessages\u001b[39m\u001b[38;5;124m\"\u001b[39m:messages, \u001b[38;5;124m\"\u001b[39m\u001b[38;5;124manalyst\u001b[39m\u001b[38;5;124m\"\u001b[39m:\u001b[43mfinal_analysts\u001b[49m\u001b[43m[\u001b[49m\u001b[38;5;241;43m0\u001b[39;49m\u001b[43m]\u001b[49m}, thread, stream_mode\u001b[38;5;241m=\u001b[39m\u001b[38;5;124m\"\u001b[39m\u001b[38;5;124mupdates\u001b[39m\u001b[38;5;124m\"\u001b[39m):\n\u001b[0;32m      5\u001b[0m     \u001b[38;5;66;03m# Review\u001b[39;00m\n\u001b[0;32m      6\u001b[0m     \u001b[38;5;28mprint\u001b[39m(event)\n\u001b[0;32m      7\u001b[0m     \u001b[38;5;28mprint\u001b[39m(\u001b[38;5;124m\"\u001b[39m\u001b[38;5;124m----------------------------\u001b[39m\u001b[38;5;130;01m\\n\u001b[39;00m\u001b[38;5;124m\"\u001b[39m)\n",
      "\u001b[1;31mTypeError\u001b[0m: 'NoneType' object is not subscriptable"
     ]
    }
   ],
   "source": [
    "thread = {\"configurable\": {\"thread_id\": \"11\"}}\n",
    "# messages = [HumanMessage(f\"So you said you were writing an article on {topic}?\")]\n",
    "messages = [HumanMessage(f\"Based on your background, formulate an insightful question about the given topic: {topic}.\")]\n",
    "for event in graph.stream({\"messages\":messages, \"analyst\":final_analysts[0]}, thread, stream_mode=\"updates\"):\n",
    "    # Review\n",
    "    print(event)\n",
    "    print(\"----------------------------\\n\")"
   ]
  },
  {
   "cell_type": "code",
   "execution_count": 27,
   "id": "57601620",
   "metadata": {},
   "outputs": [
    {
     "data": {
      "image/png": "[encoded data removed]",
      "text/plain": [
       "<IPython.core.display.Image object>"
      ]
     },
     "metadata": {},
     "output_type": "display_data"
    }
   ],
   "source": [
    "# Add nodes and edges \n",
    "interview_builder = StateGraph(InterviewState)\n",
    "interview_builder.add_node(\"ask_question\", generate_question)\n",
    "interview_builder.add_node(\"search_web\", search_web)\n",
    "interview_builder.add_node(\"search_wikipedia\", search_wikipedia)\n",
    "interview_builder.add_node(\"answer_question\", generate_answer)\n",
    "interview_builder.add_node(\"save_interview\", save_interview)\n",
    "interview_builder.add_node(\"write_section\", write_section)\n",
    "\n",
    "# Flow\n",
    "interview_builder.add_edge(START, \"ask_question\")\n",
    "interview_builder.add_edge(\"ask_question\", \"search_web\")\n",
    "interview_builder.add_edge(\"ask_question\", \"search_wikipedia\")\n",
    "interview_builder.add_edge(\"search_web\", \"answer_question\")\n",
    "interview_builder.add_edge(\"search_wikipedia\", \"answer_question\")\n",
    "interview_builder.add_conditional_edges(\"answer_question\", route_messages,['ask_question','save_interview'])\n",
    "interview_builder.add_edge(\"save_interview\", \"write_section\")\n",
    "interview_builder.add_edge(\"write_section\", END)\n",
    "\n",
    "# Interview \n",
    "memory = MemorySaver()\n",
    "interview_graph = interview_builder.compile(checkpointer=memory).with_config(run_name=\"Conduct Interviews\")\n",
    "\n",
    "# View\n",
    "display(Image(interview_graph.get_graph().draw_mermaid_png()))"
   ]
  },
  {
   "cell_type": "markdown",
   "id": "cd9d9721",
   "metadata": {},
   "source": [
    "### Parallelze interviews: Map-Reduce\n",
    "\n",
    "We parallelize the interviews via the `Send()` API, a map step.\n",
    "\n",
    "We combine them into the report body in a reduce step.\n",
    "\n",
    "### Finalize\n",
    "\n",
    "We add a final step to write an intro and conclusion to the final report."
   ]
  },
  {
   "cell_type": "code",
   "execution_count": 28,
   "id": "f9bb2c8c",
   "metadata": {},
   "outputs": [],
   "source": [
    "import operator\n",
    "from typing import List, Annotated\n",
    "from typing_extensions import TypedDict\n",
    "\n",
    "class ResearchGraphState(TypedDict):\n",
    "    topic: str # Research topic\n",
    "    max_analysts: int # Number of analysts\n",
    "    human_analyst_feedback: str # Human feedback\n",
    "    analysts: List[Analyst] # Analyst asking questions\n",
    "    sections: Annotated[list, operator.add] # Send() API key\n",
    "    introduction: str # Introduction for the final report\n",
    "    content: str # Content for the final report\n",
    "    conclusion: str # Conclusion for the final report\n",
    "    final_report: str # Final report"
   ]
  },
  {
   "cell_type": "code",
   "execution_count": 29,
   "id": "b0cdbddb",
   "metadata": {},
   "outputs": [],
   "source": [
    "from langgraph.constants import Send\n",
    "\n",
    "def initiate_all_interviews(state: ResearchGraphState):\n",
    "    \"\"\" This is the \"map\" step where we run each interview sub-graph using Send API \"\"\"    \n",
    "\n",
    "    # Check if human feedback\n",
    "    human_analyst_feedback=state.get('human_analyst_feedback')\n",
    "    if human_analyst_feedback:\n",
    "        # Return to create_analysts\n",
    "        return \"create_analysts\"\n",
    "\n",
    "    # Otherwise kick off interviews in parallel via Send() API\n",
    "    else:\n",
    "        topic = state[\"topic\"]\n",
    "        return [Send(\"conduct_interview\", {\"analyst\": analyst,\n",
    "                                           \"messages\": [HumanMessage(\n",
    "                                               content=f\"So you said you were writing an article on {topic}?\"\n",
    "                                           )\n",
    "                                                       ]}) for analyst in state[\"analysts\"]]"
   ]
  },
  {
   "cell_type": "code",
   "execution_count": 30,
   "id": "9e3efbf4",
   "metadata": {},
   "outputs": [],
   "source": [
    "report_writer_instructions = \"\"\"You are a technical writer creating a report on this overall topic: \n",
    "\n",
    "{topic}\n",
    "    \n",
    "You have a team of analysts. Each analyst has done two things: \n",
    "\n",
    "1. They conducted an interview with an expert on a specific sub-topic.\n",
    "2. They write up their finding into a memo.\n",
    "\n",
    "Your task: \n",
    "\n",
    "1. You will be given a collection of memos from your analysts.\n",
    "2. Think carefully about the insights from each memo.\n",
    "3. Consolidate these into a crisp overall summary that ties together the central ideas from all of the memos. \n",
    "4. Summarize the central points in each memo into a cohesive single narrative.\n",
    "\n",
    "To format your report:\n",
    " \n",
    "1. Use markdown formatting. \n",
    "2. Include no pre-amble for the report.\n",
    "3. Use no sub-heading. \n",
    "4. Start your report with a single title header: ## Insights\n",
    "5. Do not mention any analyst names in your report.\n",
    "6. Preserve any citations in the memos, which will be annotated in brackets, for example [1] or [2].\n",
    "7. Create a final, consolidated list of sources and add to a Sources section with the `## Sources` header.\n",
    "8. List your sources in order and do not repeat.\n",
    "\n",
    "[1] Source 1\n",
    "[2] Source 2\n",
    "\n",
    "Here are the memos from your analysts to build your report from: \n",
    "\n",
    "{context}\"\"\"\n",
    "\n",
    "def write_report(state: ResearchGraphState):\n",
    "    # Full set of sections\n",
    "    time.sleep(10)  # Simulate a delay for the answer generation\n",
    "    sections = state[\"sections\"]\n",
    "    topic = state[\"topic\"]\n",
    "\n",
    "    # Concat all sections together\n",
    "    formatted_str_sections = \"\\n\\n\".join([f\"{section}\" for section in sections])\n",
    "    \n",
    "    # Summarize the sections into a final report\n",
    "    system_message = report_writer_instructions.format(topic=topic, context=formatted_str_sections)    \n",
    "    report = llm.invoke([SystemMessage(content=system_message)]+[HumanMessage(content=f\"Write a report based upon these memos.\")]) \n",
    "    return {\"content\": report.content}"
   ]
  },
  {
   "cell_type": "code",
   "execution_count": 31,
   "id": "de33ff1a",
   "metadata": {},
   "outputs": [],
   "source": [
    "intro_conclusion_instructions = \"\"\"You are a technical writer finishing a report on {topic}\n",
    "\n",
    "You will be given all of the sections of the report.\n",
    "\n",
    "You job is to write a crisp and compelling introduction or conclusion section.\n",
    "\n",
    "The user will instruct you whether to write the introduction or conclusion.\n",
    "\n",
    "Include no pre-amble for either section.\n",
    "\n",
    "Target around 100 words, crisply previewing (for introduction) or recapping (for conclusion) all of the sections of the report.\n",
    "\n",
    "Use markdown formatting. \n",
    "\n",
    "For your introduction, create a compelling title and use the # header for the title.\n",
    "\n",
    "For your introduction, use ## Introduction as the section header. \n",
    "\n",
    "For your conclusion, use ## Conclusion as the section header.\n",
    "\n",
    "Here are the sections to reflect on for writing: {formatted_str_sections}\"\"\"\n",
    "\n",
    "def write_introduction(state: ResearchGraphState):\n",
    "    time.sleep(15)  # Simulate a delay for the answer generation\n",
    "    # Full set of sections\n",
    "    sections = state[\"sections\"]\n",
    "    topic = state[\"topic\"]\n",
    "\n",
    "    # Concat all sections together\n",
    "    formatted_str_sections = \"\\n\\n\".join([f\"{section}\" for section in sections])\n",
    "    \n",
    "    # Summarize the sections into a final report\n",
    "    \n",
    "    instructions = intro_conclusion_instructions.format(topic=topic, formatted_str_sections=formatted_str_sections)    \n",
    "    intro = llm_creative.invoke([instructions]+[HumanMessage(content=f\"Write the report introduction\")]) \n",
    "    return {\"introduction\": intro.content}\n",
    "\n",
    "def write_conclusion(state: ResearchGraphState):\n",
    "    time.sleep(15)  # Simulate a delay for the answer generation\n",
    "    # Full set of sections\n",
    "    sections = state[\"sections\"]\n",
    "    topic = state[\"topic\"]\n",
    "\n",
    "    # Concat all sections together\n",
    "    formatted_str_sections = \"\\n\\n\".join([f\"{section}\" for section in sections])\n",
    "    \n",
    "    # Summarize the sections into a final report\n",
    "    \n",
    "    instructions = intro_conclusion_instructions.format(topic=topic, formatted_str_sections=formatted_str_sections)    \n",
    "    conclusion = llm_versatile.invoke([instructions]+[HumanMessage(content=f\"Write the report conclusion\")]) \n",
    "    return {\"conclusion\": conclusion.content}"
   ]
  },
  {
   "cell_type": "code",
   "execution_count": 32,
   "id": "c95cd164",
   "metadata": {},
   "outputs": [],
   "source": [
    "def finalize_report(state: ResearchGraphState):\n",
    "    \"\"\" The is the \"reduce\" step where we gather all the sections, combine them, and reflect on them to write the intro/conclusion \"\"\"\n",
    "    # Save full final report\n",
    "    content = state[\"content\"]\n",
    "    if content.startswith(\"## Insights\"):\n",
    "        content = content.strip(\"## Insights\")\n",
    "    if \"## Sources\" in content:\n",
    "        try:\n",
    "            content, sources = content.split(\"\\n## Sources\\n\")\n",
    "        except:\n",
    "            sources = None\n",
    "    else:\n",
    "        sources = None\n",
    "\n",
    "    final_report = state[\"introduction\"] + \"\\n\\n---\\n\\n\" + content + \"\\n\\n---\\n\\n\" + state[\"conclusion\"]\n",
    "    if sources is not None:\n",
    "        final_report += \"\\n\\n## Sources\\n\" + sources\n",
    "    return {\"final_report\": final_report}"
   ]
  },
  {
   "cell_type": "code",
   "execution_count": 33,
   "id": "20dfe503",
   "metadata": {},
   "outputs": [
    {
     "data": {
      "image/png": "[encoded data removed]",
      "text/plain": [
       "<IPython.core.display.Image object>"
      ]
     },
     "metadata": {},
     "output_type": "display_data"
    }
   ],
   "source": [
    "# Add nodes and edges \n",
    "builder = StateGraph(ResearchGraphState)\n",
    "builder.add_node(\"create_analysts\", create_analysts)\n",
    "builder.add_node(\"human_feedback\", human_feedback)\n",
    "builder.add_node(\"conduct_interview\", interview_builder.compile())\n",
    "builder.add_node(\"write_report\",write_report)\n",
    "builder.add_node(\"write_introduction\",write_introduction)\n",
    "builder.add_node(\"write_conclusion\",write_conclusion)\n",
    "builder.add_node(\"finalize_report\",finalize_report)\n",
    "\n",
    "# Logic\n",
    "builder.add_edge(START, \"create_analysts\")\n",
    "builder.add_edge(\"create_analysts\", \"human_feedback\")\n",
    "builder.add_conditional_edges(\"human_feedback\", initiate_all_interviews, [\"create_analysts\", \"conduct_interview\"])\n",
    "builder.add_edge(\"conduct_interview\", \"write_report\")\n",
    "builder.add_edge(\"conduct_interview\", \"write_introduction\")\n",
    "builder.add_edge(\"conduct_interview\", \"write_conclusion\")\n",
    "builder.add_edge([\"write_conclusion\", \"write_report\", \"write_introduction\"], \"finalize_report\")\n",
    "builder.add_edge(\"finalize_report\", END)\n",
    "\n",
    "# Compile\n",
    "memory = MemorySaver()\n",
    "graph = builder.compile(interrupt_before=['human_feedback'], checkpointer=memory)\n",
    "display(Image(graph.get_graph(xray=1).draw_mermaid_png()))"
   ]
  },
  {
   "cell_type": "code",
   "execution_count": 34,
   "id": "451b5638",
   "metadata": {},
   "outputs": [
    {
     "name": "stdout",
     "output_type": "stream",
     "text": [
      "Name: Dr. Ada Sterling\n",
      "Affiliation: Global Ethics Institute\n",
      "Role: AI Ethics Specialist\n",
      "Description: Dr. Sterling focuses on the ethical implications of AI frameworks, particularly how LangGraph can ensure fairness, transparency, and accountability in AI decision-making processes. She is concerned about potential biases and advocates for regulations that promote ethical AI adoption.\n",
      "--------------------------------------------------\n",
      "Name: Alex Chen\n",
      "Affiliation: Tech Innovators Consortium\n",
      "Role: AI Integration Specialist\n",
      "Description: Alex Chen specializes in the technical integration of AI frameworks within existing systems. He is interested in how LangGraph can enhance interoperability, scalability, and efficiency in AI applications. Alex is motivated by the potential for LangGraph to revolutionize industries through seamless AI integration.\n",
      "--------------------------------------------------\n"
     ]
    }
   ],
   "source": [
    "# Inputs\n",
    "max_analysts = 2 \n",
    "topic = \"The benefits of adopting LangGraph as an agent framework\"\n",
    "thread = {\"configurable\": {\"thread_id\": \"1\"}}\n",
    "\n",
    "# Run the graph until the first interruption\n",
    "for event in graph.stream({\"topic\":topic,\n",
    "                           \"max_analysts\":max_analysts}, \n",
    "                          thread, \n",
    "                          stream_mode=\"values\"):\n",
    "    \n",
    "    analysts = event.get('analysts', '')\n",
    "    if analysts:\n",
    "        for analyst in analysts:\n",
    "            print(f\"Name: {analyst.name}\")\n",
    "            print(f\"Affiliation: {analyst.affiliation}\")\n",
    "            print(f\"Role: {analyst.role}\")\n",
    "            print(f\"Description: {analyst.description}\")\n",
    "            print(\"-\" * 50)  "
   ]
  },
  {
   "cell_type": "code",
   "execution_count": 35,
   "id": "1d4c7282",
   "metadata": {},
   "outputs": [
    {
     "data": {
      "text/plain": [
       "{'configurable': {'thread_id': '1',\n",
       "  'checkpoint_ns': '',\n",
       "  'checkpoint_id': '1f040e23-834c-6656-8002-491e5d2d82c1'}}"
      ]
     },
     "execution_count": 35,
     "metadata": {},
     "output_type": "execute_result"
    }
   ],
   "source": [
    "# We now update the state as if we are the human_feedback node\n",
    "graph.update_state(thread, {\"human_analyst_feedback\": \n",
    "                                \"Add in the CEO of gen ai native startup\"}, as_node=\"human_feedback\")"
   ]
  },
  {
   "cell_type": "code",
   "execution_count": 36,
   "id": "225127b5",
   "metadata": {},
   "outputs": [
    {
     "name": "stdout",
     "output_type": "stream",
     "text": [
      "Name: Dr. Ada Sterling\n",
      "Affiliation: Global Ethics Institute\n",
      "Role: AI Ethics Specialist\n",
      "Description: Dr. Sterling focuses on the ethical implications of AI frameworks, particularly how LangGraph can ensure fairness, transparency, and accountability in AI decision-making processes. She is concerned about potential biases and advocates for regulations that promote ethical AI adoption.\n",
      "--------------------------------------------------\n",
      "Name: Alex Chen\n",
      "Affiliation: Tech Innovators Consortium\n",
      "Role: AI Integration Specialist\n",
      "Description: Alex Chen specializes in the technical integration of AI frameworks within existing systems. He is interested in how LangGraph can enhance interoperability, scalability, and efficiency in AI applications. Alex is motivated by the potential for LangGraph to revolutionize industries through seamless AI integration.\n",
      "--------------------------------------------------\n",
      "Name: Dr. Ada Sterling\n",
      "Affiliation: Global AI Ethics Institute\n",
      "Role: AI Ethics and Policy Specialist\n",
      "Description: Dr. Ada Sterling focuses on the ethical implications and policy considerations of adopting LangGraph as an agent framework. She is particularly interested in how LangGraph can address issues of bias, transparency, and accountability in AI systems. Ada is concerned about ensuring that the adoption of LangGraph aligns with global ethical standards and promotes fairness and inclusivity.\n",
      "--------------------------------------------------\n",
      "Name: Alex Taylor\n",
      "Affiliation: Innovatech Solutions\n",
      "Role: CEO of Gen AI Native Startup\n",
      "Description: Alex Taylor is the CEO of a cutting-edge startup specializing in generative AI. He is passionate about the potential of LangGraph to revolutionize AI agent frameworks, making them more efficient and scalable. Alex is driven by the opportunity to leverage LangGraph for innovative applications and to stay ahead in the competitive AI market.\n",
      "--------------------------------------------------\n"
     ]
    }
   ],
   "source": [
    "# Check\n",
    "for event in graph.stream(None, thread, stream_mode=\"values\"):\n",
    "    analysts = event.get('analysts', '')\n",
    "    if analysts:\n",
    "        for analyst in analysts:\n",
    "            print(f\"Name: {analyst.name}\")\n",
    "            print(f\"Affiliation: {analyst.affiliation}\")\n",
    "            print(f\"Role: {analyst.role}\")\n",
    "            print(f\"Description: {analyst.description}\")\n",
    "            print(\"-\" * 50)  "
   ]
  },
  {
   "cell_type": "code",
   "execution_count": 37,
   "id": "76063d43",
   "metadata": {},
   "outputs": [
    {
     "data": {
      "text/plain": [
       "{'configurable': {'thread_id': '1',\n",
       "  'checkpoint_ns': '',\n",
       "  'checkpoint_id': '1f040e23-d1d3-6b82-8004-2ccb74613d5e'}}"
      ]
     },
     "execution_count": 37,
     "metadata": {},
     "output_type": "execute_result"
    }
   ],
   "source": [
    "# Confirm we are happy\n",
    "graph.update_state(thread, {\"human_analyst_feedback\": \n",
    "                            None}, as_node=\"human_feedback\")"
   ]
  },
  {
   "cell_type": "code",
   "execution_count": 38,
   "id": "9c0d9c98",
   "metadata": {},
   "outputs": [
    {
     "name": "stdout",
     "output_type": "stream",
     "text": [
      "--Node--\n",
      "conduct_interview\n",
      "--Node--\n",
      "conduct_interview\n",
      "--Node--\n",
      "write_report\n",
      "--Node--\n",
      "write_conclusion\n",
      "--Node--\n",
      "write_introduction\n",
      "--Node--\n",
      "finalize_report\n"
     ]
    }
   ],
   "source": [
    "# Continue\n",
    "for event in graph.stream(None, thread, stream_mode=\"updates\"):\n",
    "    print(\"--Node--\")\n",
    "    node_name = next(iter(event.keys()))\n",
    "    print(node_name)"
   ]
  },
  {
   "cell_type": "code",
   "execution_count": 39,
   "id": "7e002502",
   "metadata": {},
   "outputs": [
    {
     "data": {
      "text/markdown": [
       "# LangGraph: The Next Frontier in AI Agent Development\n",
       "\n",
       "## Introduction\n",
       "\n",
       "LangGraph, an innovative open-source library within the LangChain ecosystem, is transforming the landscape of AI agent development. By facilitating the creation of stateful, multi-actor applications powered by Large Language Models (LLMs), LangGraph enables sophisticated agent runtimes that adapt to changing conditions. Unlike fully autonomous frameworks, LangGraph offers controlled orchestration within predefined boundaries, ensuring ethical control and predictability. Its graph-based architecture provides a visual and organized method for managing workflows, making it scalable and versatile for real-world applications. This report explores the benefits of adopting LangGraph, including enhanced control, simplified development, and seamless integration with external tools, highlighting its potential to revolutionize AI agent frameworks.\n",
       "\n",
       "---\n",
       "\n",
       "\n",
       "\n",
       "LangGraph is an open-source library within the LangChain ecosystem designed for constructing stateful, multi-actor applications powered by Large Language Models (LLMs) [2]. It distinguishes itself through a graph-based architecture that provides developers with enhanced control, predictability, and scalability in AI agent development [2]. This framework facilitates the creation and management of cyclical graphs, enabling sophisticated agent runtimes where agents can revisit previous steps and adapt to changing conditions [2].\n",
       "\n",
       "Unlike fully autonomous agentic frameworks such as AutoGPT and BabyAGI, LangGraph requires developers to explicitly define all possible execution paths, offering a more controlled orchestration within predefined boundaries [1]. This structured approach allows programmers to easily know in advance where the information/states will flow [3]. The graph-based architecture allows for precise visualization, debugging, and optimization of agent workflows, making it particularly valuable for creating multi-agent systems and Retrieval Augmented Generation (RAG) applications [2, 3].\n",
       "\n",
       "LangGraph simplifies the development process by abstracting complexities related to state management, agent coordination, and error handling [1, 3]. This abstraction allows developers to focus on creating intelligent and responsive AI agents without being overwhelmed by the intricacies of managing complex workflows [3]. The ability to easily integrate external APIs further extends an agent’s functionality, enabling access to real-time data for dynamic interactions [1].\n",
       "\n",
       "LangGraph's stateful design allows agents to maintain context across interactions, adapting to advanced use cases such as risk profiling and sentiment-driven alerts [6]. Its modular design supports the integration of new tools and the expansion of nodes, demonstrating its scalability and reliability [6]. To ensure scalability, LangGraph supports horizontal scaling, distributing workloads across multiple nodes [5].\n",
       "\n",
       "To begin using LangGraph, one can install the Langgraph CLI and build Docker images of applications [4]. This framework models complex conversational flows, manages state, and integrates external tools and APIs seamlessly, making it versatile for real-world use cases, from personal assistants to privacy-focused agents [6].\n",
       "\n",
       "While LangGraph offers significant advantages, it's important to consider whether its advanced capabilities are necessary for all use cases [7]. Simpler systems might suffice for less complex applications, making it crucial to evaluate the cost-benefit of adopting LangGraph [7]. As AI ethics evolves, LangGraph is expected to incorporate more robust mechanisms for fairness, accountability, and transparency, including bias detection and mitigation tools, and enhanced auditing capabilities [5].\n",
       "\n",
       "\n",
       "---\n",
       "\n",
       "## Conclusion\n",
       "\n",
       "In conclusion, LangGraph presents a compelling framework for developing sophisticated AI agents, offering a balance between control and advanced functionality. This report has explored how LangGraph's graph-based architecture facilitates predictable workflow management and simplifies the complexities of state handling and agent coordination. We've highlighted its advantages in simplifying development, enhancing control, and enabling scalability, particularly in multi-agent and RAG applications. While LangGraph's advanced capabilities may not be necessary for all use cases, its modular design and integration with external APIs make it a versatile tool for building intelligent and responsive AI agents. As AI ethics and the need for robust mechanisms for fairness, accountability, and transparency evolve, LangGraph is expected to incorporate more robust mechanisms for these critical areas.\n",
       "\n",
       "## Sources\n",
       "\n",
       "[1] https://medium.com/@saeedhajebi/langgraph-is-not-a-true-agentic-framework-3f010c780857\n",
       "[2] https://www.turing.com/resources/ai-agent-frameworks\n",
       "[3] https://www.reddit.com/r/LangChain/comments/1j4714z/langgraph_vs_other_ai_agents_frameworks/\n",
       "[4] https://medium.com/mitb-for-all/a-gentle-introduction-to-the-llm-multi-agents-multiverse-part-1-langgraph-2ac56f1b5b3c\n",
       "[5] https://ragaboutit.com/mastering-langgraph-a-production-ready-coding-walkthrough-for-software-engineers/\n",
       "[6] https://github.com/cris-m/langgraph_examples\n",
       "[7] https://medium.com/@julian.burns50/langgraph-a-tool-from-the-future-or-a-step-function-to-complexity-2535e73ebf26\n",
       "[8] https://www.linkedin.com/pulse/how-build-custom-ai-agent-using-langgraph-framework-stafeeka-r-4uiie\n",
       "[9] https://medium.com/@vikaskumarsingh_60821/langgraph-the-future-of-production-grade-ai-agent-architectures-623d68dbbfb6\n",
       "[10] https://medium.com/@pankaj_pandey/building-advanced-ai-agents-with-langgraph-enhancing-your-llm-applications-c43c6803a9d2"
      ],
      "text/plain": [
       "<IPython.core.display.Markdown object>"
      ]
     },
     "execution_count": 39,
     "metadata": {},
     "output_type": "execute_result"
    }
   ],
   "source": [
    "from IPython.display import Markdown\n",
    "final_state = graph.get_state(thread)\n",
    "report = final_state.values.get('final_report')\n",
    "Markdown(report)"
   ]
  }
 ],
 "metadata": {
  "kernelspec": {
   "display_name": "pytorch",
   "language": "python",
   "name": "python3"
  },
  "language_info": {
   "codemirror_mode": {
    "name": "ipython",
    "version": 3
   },
   "file_extension": ".py",
   "mimetype": "text/x-python",
   "name": "python",
   "nbconvert_exporter": "python",
   "pygments_lexer": "ipython3",
   "version": "3.12.3"
  }
 },
 "nbformat": 4,
 "nbformat_minor": 5
}
