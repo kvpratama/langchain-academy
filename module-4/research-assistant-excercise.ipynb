{
 "cells": [
  {
   "cell_type": "code",
   "execution_count": 1,
   "id": "1698c0bb",
   "metadata": {},
   "outputs": [],
   "source": [
    "import os\n",
    "if \"GOOGLE_API_KEY\" not in os.environ:\n",
    "        os.environ[\"GOOGLE_API_KEY\"] = os.environ[\"GEMINI_API_KEY\"]\n",
    "\n",
    "from langchain_google_genai import ChatGoogleGenerativeAI\n",
    "llm = ChatGoogleGenerativeAI(model=\"gemini-2.0-flash\" ,temperature=0)\n",
    "\n",
    "# _set_env(\"LANGSMITH_API_KEY\")\n",
    "os.environ[\"LANGSMITH_TRACING\"] = \"true\"\n",
    "os.environ[\"LANGSMITH_PROJECT\"] = \"langchain-academy\"\n",
    "\n"
   ]
  },
  {
   "cell_type": "code",
   "execution_count": 2,
   "id": "ec36b156",
   "metadata": {},
   "outputs": [],
   "source": [
    "from typing import List, Annotated\n",
    "from typing_extensions import TypedDict\n",
    "from pydantic import BaseModel, Field\n",
    "from operator import add\n",
    "\n",
    "class Analyst(BaseModel):\n",
    "    affiliation: str = Field(\n",
    "        description=\"Primary affiliation of the analyst.\",\n",
    "    )\n",
    "    name: str = Field(\n",
    "        description=\"Name of the analyst.\"\n",
    "    )\n",
    "    role: str = Field(\n",
    "        description=\"Role of the analyst in the context of the topic.\",\n",
    "    )\n",
    "    description: str = Field(\n",
    "        description=\"Description of the analyst focus, concerns, and motives.\",\n",
    "    )\n",
    "    @property\n",
    "    def persona(self) -> str:\n",
    "        return f\"Name: {self.name}\\nRole: {self.role}\\nAffiliation: {self.affiliation}\\nDescription: {self.description}\\n\"\n",
    "\n",
    "class Perspectives(BaseModel):\n",
    "    analysts: List[Analyst] = Field(\n",
    "        description=\"Comprehensive list of analysts with their roles and affiliations.\",\n",
    "    )\n",
    "\n",
    "class GenerateAnalystsState(TypedDict):\n",
    "    topic: str # Research topic\n",
    "    max_analysts: int # Number of analysts\n",
    "    # human_analyst_feedback: str # Human feedback\n",
    "    human_analyst_feedback: Annotated[List[str], add]  # Human feedback\n",
    "    analysts: Annotated[List[Analyst], add] \n",
    "    final_analysts: List[Analyst] #= Field(..., min_items=3, max_items=3, description=\"Exactly 3 related sub-topics\")# Analyst asking questions"
   ]
  },
  {
   "cell_type": "code",
   "execution_count": 3,
   "id": "bb619fae",
   "metadata": {},
   "outputs": [
    {
     "data": {
      "image/png": "[encoded data removed]",
      "text/plain": [
       "<IPython.core.display.Image object>"
      ]
     },
     "metadata": {},
     "output_type": "display_data"
    }
   ],
   "source": [
    "from IPython.display import Image, display\n",
    "from langgraph.graph import START, END, StateGraph\n",
    "from langgraph.checkpoint.memory import MemorySaver\n",
    "from langchain_core.messages import AIMessage, HumanMessage, SystemMessage\n",
    "\n",
    "analyst_instructions=\"\"\"You are tasked with creating a set of AI analyst personas. Follow these instructions carefully:\n",
    "\n",
    "1. First, review the research topic:\n",
    "{topic}\n",
    "        \n",
    "2. Examine any editorial feedback that has been optionally provided to guide creation of the analysts: \n",
    "        \n",
    "{human_analyst_feedback}\n",
    "    \n",
    "3. Determine the most interesting themes based upon documents and / or feedback above.\n",
    "                    \n",
    "4. Pick the top {max_analysts} themes.\n",
    "\n",
    "5. Assign one analyst to each theme.\"\"\"\n",
    "\n",
    "selector_instructions=\"\"\"You are tasked with selecting {max_analysts} AI analyst personas. Follow these instructions carefully:\n",
    "\n",
    "1. First, review the research topic:\n",
    "{topic}\n",
    "        \n",
    "2. Examine any editorial feedback that has been optionally provided to guide creation of the analysts: \n",
    "        \n",
    "{human_analyst_feedback}\n",
    "    \n",
    "3. Here are the candidates:\n",
    "{candidates}\n",
    "                    \n",
    "4. Pick {max_analysts} analysts suitable for researching about {topic}. Make sure to select no more and no less than {max_analysts} analysts.\n",
    "\"\"\"\n",
    "\n",
    "def create_analysts(state: GenerateAnalystsState):\n",
    "    \n",
    "    \"\"\" Create analysts \"\"\"\n",
    "    \n",
    "    topic=state['topic']\n",
    "    max_analysts=state['max_analysts']\n",
    "    # human_analyst_feedback=state.get('human_analyst_feedback', '')\n",
    "    # import pdb; pdb.set_trace()\n",
    "    human_analyst_feedback=state.get('human_analyst_feedback', [])\n",
    "    if human_analyst_feedback:\n",
    "        human_analyst_feedback = human_analyst_feedback[-1]\n",
    "    else:\n",
    "        human_analyst_feedback = \"\"\n",
    "                \n",
    "    # Enforce structured output\n",
    "    structured_llm = llm.with_structured_output(Perspectives)\n",
    "\n",
    "    # System message\n",
    "    system_message = analyst_instructions.format(topic=topic,\n",
    "                                                            human_analyst_feedback=human_analyst_feedback, \n",
    "                                                            max_analysts=max_analysts)\n",
    "\n",
    "    # Generate question \n",
    "    analysts = structured_llm.invoke([SystemMessage(content=system_message)]+[HumanMessage(content=\"Generate the set of analysts.\")])\n",
    "    \n",
    "    # Write the list of analysis to state\n",
    "    return {\"analysts\": analysts.analysts}\n",
    "\n",
    "def select_analysts(state: GenerateAnalystsState):\n",
    "    \n",
    "    \"\"\" Select analysts \"\"\"\n",
    "    \n",
    "    topic=state['topic']\n",
    "    max_analysts=state['max_analysts']\n",
    "    human_analyst_feedback=state.get('human_analyst_feedback', [])\n",
    "    human_analyst_feedback = \"\\n\".join(feedback for feedback in human_analyst_feedback if feedback)\n",
    "    candidates = state.get('analysts', [])\n",
    "    candidates = \"\\n\\n\".join(analyst.persona for analyst in candidates)\n",
    "                \n",
    "    # Enforce structured output\n",
    "    structured_llm = llm.with_structured_output(Perspectives)\n",
    "\n",
    "    # System message\n",
    "    system_message = selector_instructions.format(topic=topic,\n",
    "                                                            human_analyst_feedback=human_analyst_feedback, \n",
    "                                                            max_analysts=max_analysts,\n",
    "                                                            candidates=candidates)\n",
    "\n",
    "    # Generate question \n",
    "    analysts = structured_llm.invoke([SystemMessage(content=system_message)]+[HumanMessage(content=f\"Pick the {max_analysts} analysts.\")])\n",
    "    \n",
    "    # Write the list of analysis to state\n",
    "    return {\"final_analysts\": analysts.analysts}\n",
    "\n",
    "def human_feedback(state: GenerateAnalystsState):\n",
    "    \"\"\" No-op node that should be interrupted on \"\"\"\n",
    "    pass\n",
    "\n",
    "def should_continue(state: GenerateAnalystsState):\n",
    "    \"\"\" Return the next node to execute \"\"\"\n",
    "\n",
    "    # Check if human feedback\n",
    "    human_analyst_feedback=state.get('human_analyst_feedback', [None])\n",
    "    if len(human_analyst_feedback) > 0:\n",
    "        human_analyst_feedback = human_analyst_feedback[-1]\n",
    "    if human_analyst_feedback:\n",
    "        return \"create_analysts\"\n",
    "    \n",
    "    # Otherwise end\n",
    "    return \"select_analysts\"\n",
    "\n",
    "# Add nodes and edges \n",
    "builder = StateGraph(GenerateAnalystsState)\n",
    "builder.add_node(\"create_analysts\", create_analysts)\n",
    "builder.add_node(\"human_feedback\", human_feedback)\n",
    "builder.add_node(\"select_analysts\", select_analysts)\n",
    "builder.add_edge(START, \"create_analysts\")\n",
    "builder.add_edge(\"create_analysts\", \"human_feedback\")\n",
    "builder.add_conditional_edges(\"human_feedback\", should_continue, [\"create_analysts\", \"select_analysts\"])\n",
    "builder.add_edge(\"select_analysts\", END)\n",
    "\n",
    "# Compile\n",
    "memory = MemorySaver()\n",
    "graph = builder.compile(interrupt_before=['human_feedback'], checkpointer=memory)\n",
    "\n",
    "# View\n",
    "display(Image(graph.get_graph(xray=1).draw_mermaid_png()))"
   ]
  },
  {
   "cell_type": "code",
   "execution_count": 4,
   "id": "f9f3aaa3",
   "metadata": {},
   "outputs": [
    {
     "name": "stdout",
     "output_type": "stream",
     "text": [
      "Name: Dr. Anya Sharma\n",
      "Affiliation: AI Research Institute\n",
      "Role: AI Agent Architect\n",
      "Description: Focuses on the technical advantages of LangGraph, such as its ability to manage complex conversational flows and improve agent reliability. They are motivated by advancing the state-of-the-art in AI agent technology.\n",
      "--------------------------------------------------\n",
      "Name: Raj Patel\n",
      "Affiliation: Large Language Model Start-up\n",
      "Role: Lead Product Manager\n",
      "Description: Concerned with the practical benefits of LangGraph for rapid prototyping and deployment of AI agents. They are motivated by quickly launching new products and features.\n",
      "--------------------------------------------------\n",
      "Name: Professor Emily Carter\n",
      "Affiliation: AI Ethics and Society Watchdog\n",
      "Role: AI Ethics Researcher\n",
      "Description: Interested in the ethical implications of using LangGraph, particularly regarding transparency, bias, and control in AI agent interactions. They are motivated by ensuring responsible AI development and deployment.\n",
      "--------------------------------------------------\n"
     ]
    }
   ],
   "source": [
    "# Input\n",
    "max_analysts = 3 \n",
    "topic = \"The benefits of adopting LangGraph as an agent framework\"\n",
    "thread = {\"configurable\": {\"thread_id\": \"1\"}}\n",
    "\n",
    "# Run the graph until the first interruption\n",
    "for event in graph.stream({\"topic\":topic,\"max_analysts\":max_analysts,}, thread, stream_mode=\"values\"):\n",
    "    # Review\n",
    "    analysts = event.get('analysts', '')\n",
    "    if analysts:\n",
    "        for analyst in analysts:\n",
    "            print(f\"Name: {analyst.name}\")\n",
    "            print(f\"Affiliation: {analyst.affiliation}\")\n",
    "            print(f\"Role: {analyst.role}\")\n",
    "            print(f\"Description: {analyst.description}\")\n",
    "            print(\"-\" * 50)  \n",
    "\n",
    "# graph.invoke({\"topic\":topic,\"max_analysts\":max_analysts,}, thread)"
   ]
  },
  {
   "cell_type": "code",
   "execution_count": 5,
   "id": "0f17e3ab",
   "metadata": {},
   "outputs": [
    {
     "data": {
      "text/plain": [
       "('human_feedback',)"
      ]
     },
     "execution_count": 5,
     "metadata": {},
     "output_type": "execute_result"
    }
   ],
   "source": [
    "# Get state and look at next node\n",
    "state = graph.get_state(thread)\n",
    "state.next"
   ]
  },
  {
   "cell_type": "code",
   "execution_count": 6,
   "id": "d089d020",
   "metadata": {},
   "outputs": [
    {
     "data": {
      "text/plain": [
       "{'configurable': {'thread_id': '1',\n",
       "  'checkpoint_ns': '',\n",
       "  'checkpoint_id': '1f03d310-f573-6f27-8002-c4ec9e7425b9'}}"
      ]
     },
     "execution_count": 6,
     "metadata": {},
     "output_type": "execute_result"
    }
   ],
   "source": [
    "# We now update the state as if we are the human_feedback node\n",
    "graph.update_state(thread, {\"human_analyst_feedback\": \n",
    "                            [\"Add in someone from a startup to add an entrepreneur perspective\"]}, as_node=\"human_feedback\")"
   ]
  },
  {
   "cell_type": "code",
   "execution_count": 7,
   "id": "9037a61d",
   "metadata": {},
   "outputs": [
    {
     "name": "stdout",
     "output_type": "stream",
     "text": [
      "Name: Dr. Anya Sharma\n",
      "Affiliation: AI Research Institute\n",
      "Role: AI Agent Architect\n",
      "Description: Focuses on the technical advantages of LangGraph, such as its ability to manage complex conversational flows and improve agent reliability. They are motivated by advancing the state-of-the-art in AI agent technology.\n",
      "--------------------------------------------------\n",
      "Name: Raj Patel\n",
      "Affiliation: Large Language Model Start-up\n",
      "Role: Lead Product Manager\n",
      "Description: Concerned with the practical benefits of LangGraph for rapid prototyping and deployment of AI agents. They are motivated by quickly launching new products and features.\n",
      "--------------------------------------------------\n",
      "Name: Professor Emily Carter\n",
      "Affiliation: AI Ethics and Society Watchdog\n",
      "Role: AI Ethics Researcher\n",
      "Description: Interested in the ethical implications of using LangGraph, particularly regarding transparency, bias, and control in AI agent interactions. They are motivated by ensuring responsible AI development and deployment.\n",
      "--------------------------------------------------\n",
      "Name: Dr. Anya Sharma\n",
      "Affiliation: AI Research Institute\n",
      "Role: AI Agent Architect\n",
      "Description: Focuses on the technical advantages of LangGraph, such as its ability to manage complex conversational flows and improve agent reliability. They are motivated by advancing the state-of-the-art in AI agent technology.\n",
      "--------------------------------------------------\n",
      "Name: Raj Patel\n",
      "Affiliation: Large Language Model Start-up\n",
      "Role: Lead Product Manager\n",
      "Description: Concerned with the practical benefits of LangGraph for rapid prototyping and deployment of AI agents. They are motivated by quickly launching new products and features.\n",
      "--------------------------------------------------\n",
      "Name: Professor Emily Carter\n",
      "Affiliation: AI Ethics and Society Watchdog\n",
      "Role: AI Ethics Researcher\n",
      "Description: Interested in the ethical implications of using LangGraph, particularly regarding transparency, bias, and control in AI agent interactions. They are motivated by ensuring responsible AI development and deployment.\n",
      "--------------------------------------------------\n",
      "Name: Ava Chen\n",
      "Affiliation: Large Enterprise\n",
      "Role: Chief Technology Officer\n",
      "Description: Focuses on scalability and integration challenges when adopting LangGraph. Concerned with ensuring compatibility with existing systems and achieving a measurable ROI.\n",
      "--------------------------------------------------\n",
      "Name: Ben Carter\n",
      "Affiliation: AI Startup\n",
      "Role: Founder & CEO\n",
      "Description: Interested in LangGraph's potential for rapid prototyping and innovation. Highly motivated by its ability to accelerate development cycles and create novel AI-powered products with limited resources.\n",
      "--------------------------------------------------\n",
      "Name: Dr. Lena Ramirez\n",
      "Affiliation: Academic Research\n",
      "Role: Research Scientist\n",
      "Description: Interested in LangGraph as a platform for experimenting with and evaluating different agent architectures. Focuses on the framework's flexibility and its ability to facilitate research on multi-agent systems.\n",
      "--------------------------------------------------\n"
     ]
    }
   ],
   "source": [
    "# Continue the graph execution\n",
    "for event in graph.stream(None, thread, stream_mode=\"values\"):\n",
    "    # Review\n",
    "    analysts = event.get('analysts', '')\n",
    "    if analysts:\n",
    "        for analyst in analysts:\n",
    "            print(f\"Name: {analyst.name}\")\n",
    "            print(f\"Affiliation: {analyst.affiliation}\")\n",
    "            print(f\"Role: {analyst.role}\")\n",
    "            print(f\"Description: {analyst.description}\")\n",
    "            print(\"-\" * 50) "
   ]
  },
  {
   "cell_type": "code",
   "execution_count": 8,
   "id": "f4410659",
   "metadata": {},
   "outputs": [
    {
     "data": {
      "text/plain": [
       "{'configurable': {'thread_id': '1',\n",
       "  'checkpoint_ns': '',\n",
       "  'checkpoint_id': '1f03d311-0808-6c1a-8004-098e90a113bb'}}"
      ]
     },
     "execution_count": 8,
     "metadata": {},
     "output_type": "execute_result"
    }
   ],
   "source": [
    "graph.update_state(thread, {\"human_analyst_feedback\": \n",
    "                            [\"It would be great to have some perspective from the open source community\"]}, as_node=\"human_feedback\")"
   ]
  },
  {
   "cell_type": "code",
   "execution_count": 9,
   "id": "06ea53a8",
   "metadata": {},
   "outputs": [
    {
     "name": "stdout",
     "output_type": "stream",
     "text": [
      "Name: Ava Chen\n",
      "Affiliation: Open Source Contributor\n",
      "Role: Open Source Advocate\n",
      "Description: Focuses on the ease of integration and community support for LangGraph. They value frameworks that are well-documented, easy to contribute to, and have a vibrant community.\n",
      "--------------------------------------------------\n"
     ]
    }
   ],
   "source": [
    "# Continue the graph execution\n",
    "for event in graph.stream(None, thread, stream_mode=\"updates\"):\n",
    "    # Review\n",
    "    create_analysts = event.get('create_analysts', '')\n",
    "    if create_analysts:\n",
    "        analysts = create_analysts.get('analysts', [])\n",
    "        for analyst in analysts:\n",
    "            print(f\"Name: {analyst.name}\")\n",
    "            print(f\"Affiliation: {analyst.affiliation}\")\n",
    "            print(f\"Role: {analyst.role}\")\n",
    "            print(f\"Description: {analyst.description}\")\n",
    "            print(\"-\" * 50)\n",
    "    "
   ]
  },
  {
   "cell_type": "code",
   "execution_count": 10,
   "id": "b0ab1380",
   "metadata": {},
   "outputs": [
    {
     "data": {
      "text/plain": [
       "{'configurable': {'thread_id': '1',\n",
       "  'checkpoint_ns': '',\n",
       "  'checkpoint_id': '1f03d311-1375-6dd9-8006-9bb6eaa7fb49'}}"
      ]
     },
     "execution_count": 10,
     "metadata": {},
     "output_type": "execute_result"
    }
   ],
   "source": [
    "# If we are satisfied, then we simply supply no feedback\n",
    "further_feedack = None\n",
    "graph.update_state(thread, {\"human_analyst_feedback\": \n",
    "                            [further_feedack]}, as_node=\"human_feedback\")"
   ]
  },
  {
   "cell_type": "code",
   "execution_count": 11,
   "id": "a200b193",
   "metadata": {},
   "outputs": [
    {
     "name": "stdout",
     "output_type": "stream",
     "text": [
      "--Node--\n",
      "select_analysts\n"
     ]
    }
   ],
   "source": [
    "# Continue the graph execution to end\n",
    "for event in graph.stream(None, thread, stream_mode=\"updates\"):\n",
    "    print(\"--Node--\")\n",
    "    node_name = next(iter(event.keys()))\n",
    "    print(node_name)"
   ]
  },
  {
   "cell_type": "code",
   "execution_count": 12,
   "id": "d3566572",
   "metadata": {},
   "outputs": [],
   "source": [
    "final_state = graph.get_state(thread)\n",
    "analysts = final_state.values.get('analysts')\n",
    "final_analysts = final_state.values.get('final_analysts')"
   ]
  },
  {
   "cell_type": "code",
   "execution_count": 13,
   "id": "a610c780",
   "metadata": {},
   "outputs": [
    {
     "name": "stdout",
     "output_type": "stream",
     "text": [
      "Name: Dr. Anya Sharma\n",
      "Affiliation: AI Research Institute\n",
      "Role: AI Agent Architect\n",
      "Description: Focuses on the technical advantages of LangGraph, such as its ability to manage complex conversational flows and improve agent reliability. They are motivated by advancing the state-of-the-art in AI agent technology.\n",
      "--------------------------------------------------\n",
      "Name: Raj Patel\n",
      "Affiliation: Large Language Model Start-up\n",
      "Role: Lead Product Manager\n",
      "Description: Concerned with the practical benefits of LangGraph for rapid prototyping and deployment of AI agents. They are motivated by quickly launching new products and features.\n",
      "--------------------------------------------------\n",
      "Name: Professor Emily Carter\n",
      "Affiliation: AI Ethics and Society Watchdog\n",
      "Role: AI Ethics Researcher\n",
      "Description: Interested in the ethical implications of using LangGraph, particularly regarding transparency, bias, and control in AI agent interactions. They are motivated by ensuring responsible AI development and deployment.\n",
      "--------------------------------------------------\n",
      "Name: Ava Chen\n",
      "Affiliation: Large Enterprise\n",
      "Role: Chief Technology Officer\n",
      "Description: Focuses on scalability and integration challenges when adopting LangGraph. Concerned with ensuring compatibility with existing systems and achieving a measurable ROI.\n",
      "--------------------------------------------------\n",
      "Name: Ben Carter\n",
      "Affiliation: AI Startup\n",
      "Role: Founder & CEO\n",
      "Description: Interested in LangGraph's potential for rapid prototyping and innovation. Highly motivated by its ability to accelerate development cycles and create novel AI-powered products with limited resources.\n",
      "--------------------------------------------------\n",
      "Name: Dr. Lena Ramirez\n",
      "Affiliation: Academic Research\n",
      "Role: Research Scientist\n",
      "Description: Interested in LangGraph as a platform for experimenting with and evaluating different agent architectures. Focuses on the framework's flexibility and its ability to facilitate research on multi-agent systems.\n",
      "--------------------------------------------------\n",
      "Name: Ava Chen\n",
      "Affiliation: Open Source Contributor\n",
      "Role: Open Source Advocate\n",
      "Description: Focuses on the ease of integration and community support for LangGraph. They value frameworks that are well-documented, easy to contribute to, and have a vibrant community.\n",
      "--------------------------------------------------\n"
     ]
    }
   ],
   "source": [
    "for analyst in analysts:\n",
    "    print(f\"Name: {analyst.name}\")\n",
    "    print(f\"Affiliation: {analyst.affiliation}\")\n",
    "    print(f\"Role: {analyst.role}\")\n",
    "    print(f\"Description: {analyst.description}\")\n",
    "    print(\"-\" * 50) "
   ]
  },
  {
   "cell_type": "code",
   "execution_count": 14,
   "id": "529a3fcf",
   "metadata": {},
   "outputs": [
    {
     "name": "stdout",
     "output_type": "stream",
     "text": [
      "Final Analysts:\n",
      "Name: Ben Carter\n",
      "Affiliation: AI Startup\n",
      "Role: Founder & CEO\n",
      "Description: Interested in LangGraph's potential for rapid prototyping and innovation. Highly motivated by its ability to accelerate development cycles and create novel AI-powered products with limited resources.\n",
      "--------------------------------------------------\n",
      "Name: Ava Chen\n",
      "Affiliation: Open Source Contributor\n",
      "Role: Open Source Advocate\n",
      "Description: Focuses on the ease of integration and community support for LangGraph. They value frameworks that are well-documented, easy to contribute to, and have a vibrant community.\n",
      "--------------------------------------------------\n",
      "Name: Raj Patel\n",
      "Affiliation: Large Language Model Start-up\n",
      "Role: Lead Product Manager\n",
      "Description: Concerned with the practical benefits of LangGraph for rapid prototyping and deployment of AI agents. They are motivated by quickly launching new products and features.\n",
      "--------------------------------------------------\n"
     ]
    }
   ],
   "source": [
    "print(\"Final Analysts:\")\n",
    "for analyst in final_analysts:\n",
    "    print(f\"Name: {analyst.name}\")\n",
    "    print(f\"Affiliation: {analyst.affiliation}\")\n",
    "    print(f\"Role: {analyst.role}\")\n",
    "    print(f\"Description: {analyst.description}\")\n",
    "    print(\"-\" * 50)"
   ]
  }
 ],
 "metadata": {
  "kernelspec": {
   "display_name": "pytorch",
   "language": "python",
   "name": "python3"
  },
  "language_info": {
   "codemirror_mode": {
    "name": "ipython",
    "version": 3
   },
   "file_extension": ".py",
   "mimetype": "text/x-python",
   "name": "python",
   "nbconvert_exporter": "python",
   "pygments_lexer": "ipython3",
   "version": "3.12.3"
  }
 },
 "nbformat": 4,
 "nbformat_minor": 5
}
